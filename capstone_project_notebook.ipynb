{
 "cells": [
  {
   "cell_type": "markdown",
   "metadata": {},
   "source": [
    "This notebook will be used for the data science capstone project."
   ]
  },
  {
   "cell_type": "markdown",
   "metadata": {},
   "source": [
    "<h1>Capstone Project - Car accident severity"
   ]
  },
  {
   "cell_type": "code",
   "execution_count": 5,
   "metadata": {},
   "outputs": [],
   "source": [
    "import pandas as pd"
   ]
  },
  {
   "cell_type": "code",
   "execution_count": 6,
   "metadata": {},
   "outputs": [],
   "source": [
    "import numpy as np"
   ]
  },
  {
   "cell_type": "code",
   "execution_count": 7,
   "metadata": {},
   "outputs": [
    {
     "name": "stdout",
     "output_type": "stream",
     "text": [
      "Hello Capstone Project Course!\n"
     ]
    }
   ],
   "source": [
    "print(\"Hello Capstone Project Course!\")"
   ]
  },
  {
   "cell_type": "markdown",
   "metadata": {},
   "source": [
    "<h2>Introduction and Business Problem"
   ]
  },
  {
   "cell_type": "markdown",
   "metadata": {},
   "source": [
    "Car accidents can vary in severity. Emergency services such as the police, fire brigade or paramedics are often called to deal with car accidents.\n",
    "\n",
    "Knowing the severity of an accident before they arrive can help these emergency services plan ahead to prepare for what vehicles and equipment they need to send and how they might start tackling the problem when they arrive. This in turn can lead to better outcomes from the accident for all involved.\n",
    "\n",
    "The severity of accidents can depend on a number of factors, many of which can easily be identified from the accident scene by those present.\n",
    "\n",
    "Our aim is to build a supervised machine learning model that can use the inputs of these factors from an initial call or report of an accident and use it to predict the severity of the acciedent. This can then be used to inform the emergency services before they arrive at the scene.\n",
    "\n",
    "In this study, we will focus on building a model for the emergency services in the Seattle area of the United States."
   ]
  },
  {
   "cell_type": "markdown",
   "metadata": {},
   "source": [
    "<h2>Data"
   ]
  },
  {
   "cell_type": "markdown",
   "metadata": {},
   "source": [
    "Our data set contains accident data recorded in Traffic Records for the city of Seattle as collected by the SDOT and SPD. There are over 194,000 records for accidents from 2004 to present, each with up to 37 different attributes set and an indication of the severity of the accident."
   ]
  },
  {
   "cell_type": "markdown",
   "metadata": {},
   "source": [
    "We will use this data set to identify the keep attributes and then to train and test our model in order to predict the severity of an accident.\n",
    "\n"
   ]
  },
  {
   "cell_type": "markdown",
   "metadata": {},
   "source": [
    "<h3>Attributes"
   ]
  },
  {
   "cell_type": "markdown",
   "metadata": {},
   "source": [
    "Our data contains attributes covering a range of different areas:\n",
    "\n",
    "* time/date - such the time of the accident (INCDTTM) and the date of the accident (INCDATE)\n",
    "* location - such as associated intersection (INTKEY), junction type (JUNCTIONTYPE), address type (ADDRTYPE), a description of the location (LOCATION) and crosswalk id (CROSSWALKKEY)\n",
    "* involement - such as the number of people involved (PERSONCOUNT), the number of pedestrians involved (PEDCOUNT), the number of bicylces involved (PEDCYLCOUNT) and the number of vehciles involved (VEHCOUNT)\n",
    "* conditions - such as weather (WEATHER), road conditions (ROADCOND), light conditions (LIGHTCOND)\n",
    "* collision details - such as collision description (COLLISIONTYPE, ST_COLCODE, ST_COLDESC, SDOT_COLCODE, SDOT_COLDESC), lane segment involved (SEGLANEKEY), if speeding was a factor (SPEEDING), if a parked car was involved (HITPARKEDCAR), information on the predestrian right of way (PEDROWNOTGRNT), whether the driver was under the influence or not (UNDERINFL), whether the accident was due to inattention (INATTENTIONIND)\n",
    "* identification - unique IDs given by various organisations involved in collecting the data, such as OBJECTID, INCKEY, COLDETKEY, REPORTNO and SDOTCOLNUM\n"
   ]
  },
  {
   "cell_type": "markdown",
   "metadata": {},
   "source": [
    "<h3>Identifying the relevant attributes"
   ]
  },
  {
   "cell_type": "markdown",
   "metadata": {},
   "source": [
    "Not all of these attributes will be relevant for our model. For example, UNDERINFL - attribute identifying whether someone was under the influence of drugs or alcohol, is unlikely to be known about in advance, therefore, we should not include it in our model.  In the same way, information on the predestrian right of way (PEDROWNOTGRNT), knowing if speeding (SPEEDING) or if driver inattention (INATTENTIONIND) were factors may also not be known in advance.\n",
    "\n",
    "The codes given by the SDOT and SPD are quite detailed. Examples for SDOT_COLDESC include:\n",
    "* MOTOR VEHICLE STRUCK MOTOR VEHICLE, FRONT END AT ANGLE\n",
    "* DRIVERLESS VEHICLE STRUCK MOTOR VEHICLE REAR END\n",
    "While examples for ST_COLDESC include:\n",
    "* From opposite direction - one left turn - one straight\n",
    "* From same direction - both going straight - both moving - rear-end\n",
    "It is unlikely sufficient information will be obtained from initial call outs to identify the correct code and description here and therefore these should not be used in our model in their current format. However, COLLISIONTYPE appears to give a more usable attribute containing similar data, but in a format which is more likely to be obtainable from the initial report. Examples of COLLISIONTYPE values include:\n",
    "* Rear Ended\n",
    "* Angles\n",
    "* Parked Car\n",
    "\n",
    "\n",
    "The data contained in the LOCATION attribute can give very specific addresses. This data will be hard to analyse and group in a machine learning model. We will likely be unable to use it unless we can discover a way to split or group it in to a usable format.\n",
    "\n",
    "The unique IDs will also not form part of our model, but we will pick OBJECTID in order to identify each individual record.\n",
    "\n",
    "We will therefore attempt to use the following attributes in our model, all of which should normally be easily identifiable or estimated for a collision at the time it is first reporting to the emergency services:\n",
    "* time of the accident (INCDTTM)\n",
    "* the date of the accident (INCDATE)\n",
    "* Iintersection (INTKEY)\n",
    "* junction type (JUNCTIONTYPE)\n",
    "* address type (ADDRTYPE)\n",
    "* crosswalk identifier (CROSSWALKKEY)\n",
    "* lane segment involved (SEGLANEKEY)\n",
    "* the number of people involved (PERSONCOUNT)\n",
    "* the number of pedestrians involved (PEDCOUNT)\n",
    "* the number of bicylces involved (PEDCYLCOUNT)\n",
    "* the number of vehciles involved (VEHCOUNT)\n",
    "* weather (WEATHER)\n",
    "* road conditions (ROADCOND)\n",
    "* light conditions (LIGHTCOND)\n",
    "* collision type (COLLISIONTYPE)\n",
    "* if a parked car was involved (HITPARKEDCAR)"
   ]
  },
  {
   "cell_type": "markdown",
   "metadata": {},
   "source": []
  }
 ],
 "metadata": {
  "kernelspec": {
   "display_name": "Python",
   "language": "python",
   "name": "conda-env-python-py"
  },
  "language_info": {
   "codemirror_mode": {
    "name": "ipython",
    "version": 3
   },
   "file_extension": ".py",
   "mimetype": "text/x-python",
   "name": "python",
   "nbconvert_exporter": "python",
   "pygments_lexer": "ipython3",
   "version": "3.6.11"
  }
 },
 "nbformat": 4,
 "nbformat_minor": 4
}
