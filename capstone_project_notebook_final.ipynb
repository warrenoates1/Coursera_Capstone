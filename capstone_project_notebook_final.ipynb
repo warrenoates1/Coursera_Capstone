{
 "cells": [
  {
   "cell_type": "markdown",
   "metadata": {},
   "source": [
    "This notebook will be used for the data science capstone project."
   ]
  },
  {
   "cell_type": "markdown",
   "metadata": {},
   "source": [
    "<h1>Capstone Project - Car accident severity"
   ]
  },
  {
   "cell_type": "code",
   "execution_count": 124,
   "metadata": {},
   "outputs": [],
   "source": [
    "import pandas as pd"
   ]
  },
  {
   "cell_type": "code",
   "execution_count": 125,
   "metadata": {},
   "outputs": [],
   "source": [
    "import numpy as np"
   ]
  },
  {
   "cell_type": "code",
   "execution_count": 126,
   "metadata": {},
   "outputs": [
    {
     "name": "stdout",
     "output_type": "stream",
     "text": [
      "Hello Capstone Project Course!\n"
     ]
    }
   ],
   "source": [
    "print(\"Hello Capstone Project Course!\")"
   ]
  },
  {
   "cell_type": "markdown",
   "metadata": {},
   "source": [
    "<h2>1. Introduction and Business Problem"
   ]
  },
  {
   "cell_type": "markdown",
   "metadata": {},
   "source": [
    "Car accidents can vary in severity. Emergency services such as the police, fire brigade or paramedics are often called to deal with car accidents.\n",
    "\n",
    "Knowing the severity of an accident before they arrive can help these emergency services plan ahead to prepare for what vehicles and equipment they need to send and how they might start tackling the problem when they arrive. This in turn can lead to better outcomes from the accident for all involved.\n",
    "\n",
    "The severity of accidents can depend on a number of factors, many of which can easily be identified from the accident scene by those present.\n",
    "\n",
    "Our aim is to build a supervised machine learning model that can use the inputs of these factors from an initial call or report of an accident and use it to predict the severity of the acciedent. This can then be used to inform the emergency services before they arrive at the scene.\n",
    "\n",
    "In this study, we will focus on building a model for the emergency services in the Seattle area of the United States."
   ]
  },
  {
   "cell_type": "markdown",
   "metadata": {},
   "source": [
    "<h2>2. Data"
   ]
  },
  {
   "cell_type": "markdown",
   "metadata": {},
   "source": [
    "Our data set contains accident data recorded in Traffic Records for the city of Seattle as collected by the SDOT and SPD. There are over 194,000 records for accidents from 2004 to present, each with up to 37 different attributes set and an indication of the severity of the accident."
   ]
  },
  {
   "cell_type": "markdown",
   "metadata": {},
   "source": [
    "We will use this data set to identify the keep attributes and then to train and test our model in order to predict the severity of an accident.\n",
    "\n"
   ]
  },
  {
   "cell_type": "markdown",
   "metadata": {},
   "source": [
    "<h3>2.1 Attributes"
   ]
  },
  {
   "cell_type": "markdown",
   "metadata": {},
   "source": [
    "Our data contains attributes covering a range of different areas:\n",
    "\n",
    "* time/date - such the time of the accident (INCDTTM) and the date of the accident (INCDATE)\n",
    "* location - such as associated intersection (INTKEY), junction type (JUNCTIONTYPE), address type (ADDRTYPE), a description of the location (LOCATION) and crosswalk id (CROSSWALKKEY)\n",
    "* involement - such as the number of people involved (PERSONCOUNT), the number of pedestrians involved (PEDCOUNT), the number of bicylces involved (PEDCYLCOUNT) and the number of vehciles involved (VEHCOUNT)\n",
    "* conditions - such as weather (WEATHER), road conditions (ROADCOND), light conditions (LIGHTCOND)\n",
    "* collision details - such as collision description (COLLISIONTYPE, ST_COLCODE, ST_COLDESC, SDOT_COLCODE, SDOT_COLDESC), lane segment involved (SEGLANEKEY), if speeding was a factor (SPEEDING), if a parked car was involved (HITPARKEDCAR), information on the predestrian right of way (PEDROWNOTGRNT), whether the driver was under the influence or not (UNDERINFL), whether the accident was due to inattention (INATTENTIONIND)\n",
    "* identification - unique IDs given by various organisations involved in collecting the data, such as OBJECTID, INCKEY, COLDETKEY, REPORTNO and SDOTCOLNUM\n"
   ]
  },
  {
   "cell_type": "markdown",
   "metadata": {},
   "source": [
    "<h3>2.2 Identifying the relevant attributes"
   ]
  },
  {
   "cell_type": "markdown",
   "metadata": {},
   "source": [
    "Not all of these attributes will be relevant for our model. For example, UNDERINFL - attribute identifying whether someone was under the influence of drugs or alcohol, is unlikely to be known about in advance, therefore, we should not include it in our model.  In the same way, information on the predestrian right of way (PEDROWNOTGRNT), knowing if speeding (SPEEDING) or if driver inattention (INATTENTIONIND) were factors may also not be known in advance.\n",
    "\n",
    "The codes given by the SDOT and SPD are quite detailed. Examples for SDOT_COLDESC include:\n",
    "* MOTOR VEHICLE STRUCK MOTOR VEHICLE, FRONT END AT ANGLE\n",
    "* DRIVERLESS VEHICLE STRUCK MOTOR VEHICLE REAR END\n",
    "\n",
    "While examples for ST_COLDESC include:\n",
    "* From opposite direction - one left turn - one straight\n",
    "* From same direction - both going straight - both moving - rear-end\n",
    "\n",
    "It is unlikely sufficient information will be obtained from initial call outs to identify the correct code and description here and therefore these should not be used in our model in their current format. However, COLLISIONTYPE appears to give a more usable attribute containing similar data, but in a format which is more likely to be obtainable from the initial report. Examples of COLLISIONTYPE values include:\n",
    "* Rear Ended\n",
    "* Angles\n",
    "* Parked Car\n",
    "\n",
    "\n",
    "The data contained in the LOCATION attribute can give very specific addresses. This data will be hard to analyse and group in a machine learning model. We will likely be unable to use it unless we can discover a way to split or group it in to a usable format.\n",
    "\n",
    "The unique IDs will also not form part of our model, but we will pick OBJECTID in order to identify each individual record.\n",
    "\n",
    "We will therefore attempt to use the following attributes in our model, all of which should normally be easily identifiable or estimated for a collision at the time it is first reporting to the emergency services:\n",
    "* time of the accident (INCDTTM)\n",
    "* the date of the accident (INCDATE)\n",
    "* Iintersection (INTKEY)\n",
    "* junction type (JUNCTIONTYPE)\n",
    "* address type (ADDRTYPE)\n",
    "* crosswalk identifier (CROSSWALKKEY)\n",
    "* lane segment involved (SEGLANEKEY)\n",
    "* the number of people involved (PERSONCOUNT)\n",
    "* the number of pedestrians involved (PEDCOUNT)\n",
    "* the number of bicylces involved (PEDCYLCOUNT)\n",
    "* the number of vehciles involved (VEHCOUNT)\n",
    "* weather (WEATHER)\n",
    "* road conditions (ROADCOND)\n",
    "* light conditions (LIGHTCOND)\n",
    "* collision type (COLLISIONTYPE)\n",
    "* if a parked car was involved (HITPARKEDCAR)"
   ]
  },
  {
   "cell_type": "markdown",
   "metadata": {},
   "source": [
    "<h2> 3. Methodology"
   ]
  },
  {
   "cell_type": "markdown",
   "metadata": {},
   "source": [
    "<h3>3.1 Initial data pre-processing"
   ]
  },
  {
   "cell_type": "code",
   "execution_count": 127,
   "metadata": {},
   "outputs": [
    {
     "data": {
      "text/html": [
       "<div>\n",
       "<style scoped>\n",
       "    .dataframe tbody tr th:only-of-type {\n",
       "        vertical-align: middle;\n",
       "    }\n",
       "\n",
       "    .dataframe tbody tr th {\n",
       "        vertical-align: top;\n",
       "    }\n",
       "\n",
       "    .dataframe thead th {\n",
       "        text-align: right;\n",
       "    }\n",
       "</style>\n",
       "<table border=\"1\" class=\"dataframe\">\n",
       "  <thead>\n",
       "    <tr style=\"text-align: right;\">\n",
       "      <th></th>\n",
       "      <th>SEVERITYCODE</th>\n",
       "      <th>SEVERITYDESC</th>\n",
       "      <th>OBJECTID</th>\n",
       "      <th>ADDRTYPE</th>\n",
       "      <th>INTKEY</th>\n",
       "      <th>COLLISIONTYPE</th>\n",
       "      <th>PERSONCOUNT</th>\n",
       "      <th>PEDCOUNT</th>\n",
       "      <th>PEDCYLCOUNT</th>\n",
       "      <th>VEHCOUNT</th>\n",
       "      <th>INCDATE</th>\n",
       "      <th>INCDTTM</th>\n",
       "      <th>JUNCTIONTYPE</th>\n",
       "      <th>WEATHER</th>\n",
       "      <th>ROADCOND</th>\n",
       "      <th>LIGHTCOND</th>\n",
       "      <th>SEGLANEKEY</th>\n",
       "      <th>CROSSWALKKEY</th>\n",
       "      <th>HITPARKEDCAR</th>\n",
       "    </tr>\n",
       "  </thead>\n",
       "  <tbody>\n",
       "    <tr>\n",
       "      <th>0</th>\n",
       "      <td>2</td>\n",
       "      <td>Injury Collision</td>\n",
       "      <td>1</td>\n",
       "      <td>Intersection</td>\n",
       "      <td>37475.0</td>\n",
       "      <td>Angles</td>\n",
       "      <td>2</td>\n",
       "      <td>0</td>\n",
       "      <td>0</td>\n",
       "      <td>2</td>\n",
       "      <td>2013/03/27 00:00:00+00</td>\n",
       "      <td>3/27/2013 2:54:00 PM</td>\n",
       "      <td>At Intersection (intersection related)</td>\n",
       "      <td>Overcast</td>\n",
       "      <td>Wet</td>\n",
       "      <td>Daylight</td>\n",
       "      <td>0</td>\n",
       "      <td>0</td>\n",
       "      <td>N</td>\n",
       "    </tr>\n",
       "    <tr>\n",
       "      <th>1</th>\n",
       "      <td>1</td>\n",
       "      <td>Property Damage Only Collision</td>\n",
       "      <td>2</td>\n",
       "      <td>Block</td>\n",
       "      <td>NaN</td>\n",
       "      <td>Sideswipe</td>\n",
       "      <td>2</td>\n",
       "      <td>0</td>\n",
       "      <td>0</td>\n",
       "      <td>2</td>\n",
       "      <td>2006/12/20 00:00:00+00</td>\n",
       "      <td>12/20/2006 6:55:00 PM</td>\n",
       "      <td>Mid-Block (not related to intersection)</td>\n",
       "      <td>Raining</td>\n",
       "      <td>Wet</td>\n",
       "      <td>Dark - Street Lights On</td>\n",
       "      <td>0</td>\n",
       "      <td>0</td>\n",
       "      <td>N</td>\n",
       "    </tr>\n",
       "    <tr>\n",
       "      <th>2</th>\n",
       "      <td>1</td>\n",
       "      <td>Property Damage Only Collision</td>\n",
       "      <td>3</td>\n",
       "      <td>Block</td>\n",
       "      <td>NaN</td>\n",
       "      <td>Parked Car</td>\n",
       "      <td>4</td>\n",
       "      <td>0</td>\n",
       "      <td>0</td>\n",
       "      <td>3</td>\n",
       "      <td>2004/11/18 00:00:00+00</td>\n",
       "      <td>11/18/2004 10:20:00 AM</td>\n",
       "      <td>Mid-Block (not related to intersection)</td>\n",
       "      <td>Overcast</td>\n",
       "      <td>Dry</td>\n",
       "      <td>Daylight</td>\n",
       "      <td>0</td>\n",
       "      <td>0</td>\n",
       "      <td>N</td>\n",
       "    </tr>\n",
       "    <tr>\n",
       "      <th>3</th>\n",
       "      <td>1</td>\n",
       "      <td>Property Damage Only Collision</td>\n",
       "      <td>4</td>\n",
       "      <td>Block</td>\n",
       "      <td>NaN</td>\n",
       "      <td>Other</td>\n",
       "      <td>3</td>\n",
       "      <td>0</td>\n",
       "      <td>0</td>\n",
       "      <td>3</td>\n",
       "      <td>2013/03/29 00:00:00+00</td>\n",
       "      <td>3/29/2013 9:26:00 AM</td>\n",
       "      <td>Mid-Block (not related to intersection)</td>\n",
       "      <td>Clear</td>\n",
       "      <td>Dry</td>\n",
       "      <td>Daylight</td>\n",
       "      <td>0</td>\n",
       "      <td>0</td>\n",
       "      <td>N</td>\n",
       "    </tr>\n",
       "    <tr>\n",
       "      <th>4</th>\n",
       "      <td>2</td>\n",
       "      <td>Injury Collision</td>\n",
       "      <td>5</td>\n",
       "      <td>Intersection</td>\n",
       "      <td>34387.0</td>\n",
       "      <td>Angles</td>\n",
       "      <td>2</td>\n",
       "      <td>0</td>\n",
       "      <td>0</td>\n",
       "      <td>2</td>\n",
       "      <td>2004/01/28 00:00:00+00</td>\n",
       "      <td>1/28/2004 8:04:00 AM</td>\n",
       "      <td>At Intersection (intersection related)</td>\n",
       "      <td>Raining</td>\n",
       "      <td>Wet</td>\n",
       "      <td>Daylight</td>\n",
       "      <td>0</td>\n",
       "      <td>0</td>\n",
       "      <td>N</td>\n",
       "    </tr>\n",
       "  </tbody>\n",
       "</table>\n",
       "</div>"
      ],
      "text/plain": [
       "   SEVERITYCODE                    SEVERITYDESC  OBJECTID      ADDRTYPE  \\\n",
       "0             2                Injury Collision         1  Intersection   \n",
       "1             1  Property Damage Only Collision         2         Block   \n",
       "2             1  Property Damage Only Collision         3         Block   \n",
       "3             1  Property Damage Only Collision         4         Block   \n",
       "4             2                Injury Collision         5  Intersection   \n",
       "\n",
       "    INTKEY COLLISIONTYPE  PERSONCOUNT  PEDCOUNT  PEDCYLCOUNT  VEHCOUNT  \\\n",
       "0  37475.0        Angles            2         0            0         2   \n",
       "1      NaN     Sideswipe            2         0            0         2   \n",
       "2      NaN    Parked Car            4         0            0         3   \n",
       "3      NaN         Other            3         0            0         3   \n",
       "4  34387.0        Angles            2         0            0         2   \n",
       "\n",
       "                  INCDATE                 INCDTTM  \\\n",
       "0  2013/03/27 00:00:00+00    3/27/2013 2:54:00 PM   \n",
       "1  2006/12/20 00:00:00+00   12/20/2006 6:55:00 PM   \n",
       "2  2004/11/18 00:00:00+00  11/18/2004 10:20:00 AM   \n",
       "3  2013/03/29 00:00:00+00    3/29/2013 9:26:00 AM   \n",
       "4  2004/01/28 00:00:00+00    1/28/2004 8:04:00 AM   \n",
       "\n",
       "                              JUNCTIONTYPE   WEATHER ROADCOND  \\\n",
       "0   At Intersection (intersection related)  Overcast      Wet   \n",
       "1  Mid-Block (not related to intersection)   Raining      Wet   \n",
       "2  Mid-Block (not related to intersection)  Overcast      Dry   \n",
       "3  Mid-Block (not related to intersection)     Clear      Dry   \n",
       "4   At Intersection (intersection related)   Raining      Wet   \n",
       "\n",
       "                 LIGHTCOND  SEGLANEKEY  CROSSWALKKEY HITPARKEDCAR  \n",
       "0                 Daylight           0             0            N  \n",
       "1  Dark - Street Lights On           0             0            N  \n",
       "2                 Daylight           0             0            N  \n",
       "3                 Daylight           0             0            N  \n",
       "4                 Daylight           0             0            N  "
      ]
     },
     "execution_count": 127,
     "metadata": {},
     "output_type": "execute_result"
    }
   ],
   "source": [
    "#Import data from uploaded file\n",
    "df = pd.read_csv(\"Data-Collisions-cut-back-attributes.csv\")\n",
    "df.head()"
   ]
  },
  {
   "cell_type": "markdown",
   "metadata": {},
   "source": [
    "Note that OBJECTID is not actually needed as we get IDs after important to identify each row - we can drop.\n",
    "\n",
    "We can also drop SEVERITYCODE, noting that\n",
    "* SEVERITYCODE = 1 means 'Property damage only collision'\n",
    "* SEVERITYCODE = 2 means 'Injury collision'\n",
    "\n",
    "We should also note that INTKEY, CROSSWALKKEY and SEGLANEKEY contain no data / a value of 0 for most records and therefore it is likley best to drop these fields due to the missing data.\n",
    "\n",
    "Finally, all the information included in INCDATE is duplicated in INCDATTM, so we can drop INCDATE too."
   ]
  },
  {
   "cell_type": "code",
   "execution_count": 128,
   "metadata": {},
   "outputs": [],
   "source": [
    "df2 = df.drop(['OBJECTID', 'SEVERITYCODE', 'INCDATE', 'INTKEY', 'CROSSWALKKEY' ,'SEGLANEKEY'], axis = 1)"
   ]
  },
  {
   "cell_type": "markdown",
   "metadata": {},
   "source": [
    "We can also convert the date column (INCDTTM) to the correct format, while also extracting hour, the day of the week and month from it for new colums.\n",
    "\n",
    "Finally, we can drop INCDTTM, as it is no longer needed now we have extracted the useful data from it."
   ]
  },
  {
   "cell_type": "code",
   "execution_count": 129,
   "metadata": {},
   "outputs": [],
   "source": [
    "df2['INCDTTM'] = pd.to_datetime(df['INCDTTM'])\n",
    "\n",
    "df2['Hour'] = df2['INCDTTM'].dt.hour\n",
    "df2['Dayofweek'] = df2['INCDTTM'].dt.dayofweek\n",
    "df2['Month'] = df2['INCDTTM'].dt.month"
   ]
  },
  {
   "cell_type": "code",
   "execution_count": 130,
   "metadata": {},
   "outputs": [
    {
     "data": {
      "text/html": [
       "<div>\n",
       "<style scoped>\n",
       "    .dataframe tbody tr th:only-of-type {\n",
       "        vertical-align: middle;\n",
       "    }\n",
       "\n",
       "    .dataframe tbody tr th {\n",
       "        vertical-align: top;\n",
       "    }\n",
       "\n",
       "    .dataframe thead th {\n",
       "        text-align: right;\n",
       "    }\n",
       "</style>\n",
       "<table border=\"1\" class=\"dataframe\">\n",
       "  <thead>\n",
       "    <tr style=\"text-align: right;\">\n",
       "      <th></th>\n",
       "      <th>SEVERITYDESC</th>\n",
       "      <th>ADDRTYPE</th>\n",
       "      <th>COLLISIONTYPE</th>\n",
       "      <th>PERSONCOUNT</th>\n",
       "      <th>PEDCOUNT</th>\n",
       "      <th>PEDCYLCOUNT</th>\n",
       "      <th>VEHCOUNT</th>\n",
       "      <th>JUNCTIONTYPE</th>\n",
       "      <th>WEATHER</th>\n",
       "      <th>ROADCOND</th>\n",
       "      <th>LIGHTCOND</th>\n",
       "      <th>HITPARKEDCAR</th>\n",
       "      <th>Hour</th>\n",
       "      <th>Dayofweek</th>\n",
       "      <th>Month</th>\n",
       "    </tr>\n",
       "  </thead>\n",
       "  <tbody>\n",
       "    <tr>\n",
       "      <th>0</th>\n",
       "      <td>Injury Collision</td>\n",
       "      <td>Intersection</td>\n",
       "      <td>Angles</td>\n",
       "      <td>2</td>\n",
       "      <td>0</td>\n",
       "      <td>0</td>\n",
       "      <td>2</td>\n",
       "      <td>At Intersection (intersection related)</td>\n",
       "      <td>Overcast</td>\n",
       "      <td>Wet</td>\n",
       "      <td>Daylight</td>\n",
       "      <td>N</td>\n",
       "      <td>14</td>\n",
       "      <td>2</td>\n",
       "      <td>3</td>\n",
       "    </tr>\n",
       "    <tr>\n",
       "      <th>1</th>\n",
       "      <td>Property Damage Only Collision</td>\n",
       "      <td>Block</td>\n",
       "      <td>Sideswipe</td>\n",
       "      <td>2</td>\n",
       "      <td>0</td>\n",
       "      <td>0</td>\n",
       "      <td>2</td>\n",
       "      <td>Mid-Block (not related to intersection)</td>\n",
       "      <td>Raining</td>\n",
       "      <td>Wet</td>\n",
       "      <td>Dark - Street Lights On</td>\n",
       "      <td>N</td>\n",
       "      <td>18</td>\n",
       "      <td>2</td>\n",
       "      <td>12</td>\n",
       "    </tr>\n",
       "    <tr>\n",
       "      <th>2</th>\n",
       "      <td>Property Damage Only Collision</td>\n",
       "      <td>Block</td>\n",
       "      <td>Parked Car</td>\n",
       "      <td>4</td>\n",
       "      <td>0</td>\n",
       "      <td>0</td>\n",
       "      <td>3</td>\n",
       "      <td>Mid-Block (not related to intersection)</td>\n",
       "      <td>Overcast</td>\n",
       "      <td>Dry</td>\n",
       "      <td>Daylight</td>\n",
       "      <td>N</td>\n",
       "      <td>10</td>\n",
       "      <td>3</td>\n",
       "      <td>11</td>\n",
       "    </tr>\n",
       "    <tr>\n",
       "      <th>3</th>\n",
       "      <td>Property Damage Only Collision</td>\n",
       "      <td>Block</td>\n",
       "      <td>Other</td>\n",
       "      <td>3</td>\n",
       "      <td>0</td>\n",
       "      <td>0</td>\n",
       "      <td>3</td>\n",
       "      <td>Mid-Block (not related to intersection)</td>\n",
       "      <td>Clear</td>\n",
       "      <td>Dry</td>\n",
       "      <td>Daylight</td>\n",
       "      <td>N</td>\n",
       "      <td>9</td>\n",
       "      <td>4</td>\n",
       "      <td>3</td>\n",
       "    </tr>\n",
       "    <tr>\n",
       "      <th>4</th>\n",
       "      <td>Injury Collision</td>\n",
       "      <td>Intersection</td>\n",
       "      <td>Angles</td>\n",
       "      <td>2</td>\n",
       "      <td>0</td>\n",
       "      <td>0</td>\n",
       "      <td>2</td>\n",
       "      <td>At Intersection (intersection related)</td>\n",
       "      <td>Raining</td>\n",
       "      <td>Wet</td>\n",
       "      <td>Daylight</td>\n",
       "      <td>N</td>\n",
       "      <td>8</td>\n",
       "      <td>2</td>\n",
       "      <td>1</td>\n",
       "    </tr>\n",
       "  </tbody>\n",
       "</table>\n",
       "</div>"
      ],
      "text/plain": [
       "                     SEVERITYDESC      ADDRTYPE COLLISIONTYPE  PERSONCOUNT  \\\n",
       "0                Injury Collision  Intersection        Angles            2   \n",
       "1  Property Damage Only Collision         Block     Sideswipe            2   \n",
       "2  Property Damage Only Collision         Block    Parked Car            4   \n",
       "3  Property Damage Only Collision         Block         Other            3   \n",
       "4                Injury Collision  Intersection        Angles            2   \n",
       "\n",
       "   PEDCOUNT  PEDCYLCOUNT  VEHCOUNT                             JUNCTIONTYPE  \\\n",
       "0         0            0         2   At Intersection (intersection related)   \n",
       "1         0            0         2  Mid-Block (not related to intersection)   \n",
       "2         0            0         3  Mid-Block (not related to intersection)   \n",
       "3         0            0         3  Mid-Block (not related to intersection)   \n",
       "4         0            0         2   At Intersection (intersection related)   \n",
       "\n",
       "    WEATHER ROADCOND                LIGHTCOND HITPARKEDCAR  Hour  Dayofweek  \\\n",
       "0  Overcast      Wet                 Daylight            N    14          2   \n",
       "1   Raining      Wet  Dark - Street Lights On            N    18          2   \n",
       "2  Overcast      Dry                 Daylight            N    10          3   \n",
       "3     Clear      Dry                 Daylight            N     9          4   \n",
       "4   Raining      Wet                 Daylight            N     8          2   \n",
       "\n",
       "   Month  \n",
       "0      3  \n",
       "1     12  \n",
       "2     11  \n",
       "3      3  \n",
       "4      1  "
      ]
     },
     "execution_count": 130,
     "metadata": {},
     "output_type": "execute_result"
    }
   ],
   "source": [
    "df3 = df2.drop(['INCDTTM'], axis = 1)\n",
    "df3.head()"
   ]
  },
  {
   "cell_type": "markdown",
   "metadata": {},
   "source": [
    "<h3>3.2 Investigate specific attributes"
   ]
  },
  {
   "cell_type": "markdown",
   "metadata": {},
   "source": [
    "<h4> 3.2.1 SEVERITYCODE"
   ]
  },
  {
   "cell_type": "markdown",
   "metadata": {},
   "source": [
    "First, let's count how many accidents of each severity we have:"
   ]
  },
  {
   "cell_type": "code",
   "execution_count": 131,
   "metadata": {},
   "outputs": [
    {
     "data": {
      "text/plain": [
       "Property Damage Only Collision    136485\n",
       "Injury Collision                   58188\n",
       "Name: SEVERITYDESC, dtype: int64"
      ]
     },
     "execution_count": 131,
     "metadata": {},
     "output_type": "execute_result"
    }
   ],
   "source": [
    "df3['SEVERITYDESC'].value_counts()"
   ]
  },
  {
   "cell_type": "markdown",
   "metadata": {},
   "source": [
    "We have 136,485 of type 1, where the severity is 'Property damage only collision', while 58,188 are type 2 - an 'Injury collision'."
   ]
  },
  {
   "cell_type": "markdown",
   "metadata": {},
   "source": [
    "<h4> 3.2.1 ADDRTYPE"
   ]
  },
  {
   "cell_type": "code",
   "execution_count": 132,
   "metadata": {},
   "outputs": [
    {
     "data": {
      "text/plain": [
       "ADDRTYPE      SEVERITYDESC                  \n",
       "Alley         Property Damage Only Collision      669\n",
       "              Injury Collision                     82\n",
       "Block         Property Damage Only Collision    96830\n",
       "              Injury Collision                  30096\n",
       "Intersection  Property Damage Only Collision    37251\n",
       "              Injury Collision                  27819\n",
       "Name: SEVERITYDESC, dtype: int64"
      ]
     },
     "execution_count": 132,
     "metadata": {},
     "output_type": "execute_result"
    }
   ],
   "source": [
    "df3.groupby(['ADDRTYPE'])['SEVERITYDESC'].value_counts(normalize=False)"
   ]
  },
  {
   "cell_type": "code",
   "execution_count": 133,
   "metadata": {},
   "outputs": [
    {
     "data": {
      "text/plain": [
       "ADDRTYPE      SEVERITYDESC                  \n",
       "Alley         Property Damage Only Collision    0.890812\n",
       "              Injury Collision                  0.109188\n",
       "Block         Property Damage Only Collision    0.762885\n",
       "              Injury Collision                  0.237115\n",
       "Intersection  Property Damage Only Collision    0.572476\n",
       "              Injury Collision                  0.427524\n",
       "Name: SEVERITYDESC, dtype: float64"
      ]
     },
     "execution_count": 133,
     "metadata": {},
     "output_type": "execute_result"
    }
   ],
   "source": [
    "df3.groupby(['ADDRTYPE'])['SEVERITYDESC'].value_counts(normalize=True)"
   ]
  },
  {
   "cell_type": "markdown",
   "metadata": {},
   "source": [
    "We can see  all three road types have unequal distribution of severity type. All have more type 1 than type 2, but a type 2 collision is more like in Intersections and less likely in Alleys.\n",
    "\n",
    "We will therefore use one hot encoding to convert this categorical data to binary variables columns.\n",
    "\n",
    "We can then also drop ADDRTYPE, as all useful data has been extracted."
   ]
  },
  {
   "cell_type": "code",
   "execution_count": 134,
   "metadata": {},
   "outputs": [
    {
     "data": {
      "text/html": [
       "<div>\n",
       "<style scoped>\n",
       "    .dataframe tbody tr th:only-of-type {\n",
       "        vertical-align: middle;\n",
       "    }\n",
       "\n",
       "    .dataframe tbody tr th {\n",
       "        vertical-align: top;\n",
       "    }\n",
       "\n",
       "    .dataframe thead th {\n",
       "        text-align: right;\n",
       "    }\n",
       "</style>\n",
       "<table border=\"1\" class=\"dataframe\">\n",
       "  <thead>\n",
       "    <tr style=\"text-align: right;\">\n",
       "      <th></th>\n",
       "      <th>SEVERITYDESC</th>\n",
       "      <th>COLLISIONTYPE</th>\n",
       "      <th>PERSONCOUNT</th>\n",
       "      <th>PEDCOUNT</th>\n",
       "      <th>PEDCYLCOUNT</th>\n",
       "      <th>VEHCOUNT</th>\n",
       "      <th>JUNCTIONTYPE</th>\n",
       "      <th>WEATHER</th>\n",
       "      <th>ROADCOND</th>\n",
       "      <th>LIGHTCOND</th>\n",
       "      <th>HITPARKEDCAR</th>\n",
       "      <th>Hour</th>\n",
       "      <th>Dayofweek</th>\n",
       "      <th>Month</th>\n",
       "      <th>Alley</th>\n",
       "      <th>Block</th>\n",
       "      <th>Intersection</th>\n",
       "    </tr>\n",
       "  </thead>\n",
       "  <tbody>\n",
       "    <tr>\n",
       "      <th>0</th>\n",
       "      <td>Injury Collision</td>\n",
       "      <td>Angles</td>\n",
       "      <td>2</td>\n",
       "      <td>0</td>\n",
       "      <td>0</td>\n",
       "      <td>2</td>\n",
       "      <td>At Intersection (intersection related)</td>\n",
       "      <td>Overcast</td>\n",
       "      <td>Wet</td>\n",
       "      <td>Daylight</td>\n",
       "      <td>N</td>\n",
       "      <td>14</td>\n",
       "      <td>2</td>\n",
       "      <td>3</td>\n",
       "      <td>0</td>\n",
       "      <td>0</td>\n",
       "      <td>1</td>\n",
       "    </tr>\n",
       "    <tr>\n",
       "      <th>1</th>\n",
       "      <td>Property Damage Only Collision</td>\n",
       "      <td>Sideswipe</td>\n",
       "      <td>2</td>\n",
       "      <td>0</td>\n",
       "      <td>0</td>\n",
       "      <td>2</td>\n",
       "      <td>Mid-Block (not related to intersection)</td>\n",
       "      <td>Raining</td>\n",
       "      <td>Wet</td>\n",
       "      <td>Dark - Street Lights On</td>\n",
       "      <td>N</td>\n",
       "      <td>18</td>\n",
       "      <td>2</td>\n",
       "      <td>12</td>\n",
       "      <td>0</td>\n",
       "      <td>1</td>\n",
       "      <td>0</td>\n",
       "    </tr>\n",
       "    <tr>\n",
       "      <th>2</th>\n",
       "      <td>Property Damage Only Collision</td>\n",
       "      <td>Parked Car</td>\n",
       "      <td>4</td>\n",
       "      <td>0</td>\n",
       "      <td>0</td>\n",
       "      <td>3</td>\n",
       "      <td>Mid-Block (not related to intersection)</td>\n",
       "      <td>Overcast</td>\n",
       "      <td>Dry</td>\n",
       "      <td>Daylight</td>\n",
       "      <td>N</td>\n",
       "      <td>10</td>\n",
       "      <td>3</td>\n",
       "      <td>11</td>\n",
       "      <td>0</td>\n",
       "      <td>1</td>\n",
       "      <td>0</td>\n",
       "    </tr>\n",
       "    <tr>\n",
       "      <th>3</th>\n",
       "      <td>Property Damage Only Collision</td>\n",
       "      <td>Other</td>\n",
       "      <td>3</td>\n",
       "      <td>0</td>\n",
       "      <td>0</td>\n",
       "      <td>3</td>\n",
       "      <td>Mid-Block (not related to intersection)</td>\n",
       "      <td>Clear</td>\n",
       "      <td>Dry</td>\n",
       "      <td>Daylight</td>\n",
       "      <td>N</td>\n",
       "      <td>9</td>\n",
       "      <td>4</td>\n",
       "      <td>3</td>\n",
       "      <td>0</td>\n",
       "      <td>1</td>\n",
       "      <td>0</td>\n",
       "    </tr>\n",
       "    <tr>\n",
       "      <th>4</th>\n",
       "      <td>Injury Collision</td>\n",
       "      <td>Angles</td>\n",
       "      <td>2</td>\n",
       "      <td>0</td>\n",
       "      <td>0</td>\n",
       "      <td>2</td>\n",
       "      <td>At Intersection (intersection related)</td>\n",
       "      <td>Raining</td>\n",
       "      <td>Wet</td>\n",
       "      <td>Daylight</td>\n",
       "      <td>N</td>\n",
       "      <td>8</td>\n",
       "      <td>2</td>\n",
       "      <td>1</td>\n",
       "      <td>0</td>\n",
       "      <td>0</td>\n",
       "      <td>1</td>\n",
       "    </tr>\n",
       "  </tbody>\n",
       "</table>\n",
       "</div>"
      ],
      "text/plain": [
       "                     SEVERITYDESC COLLISIONTYPE  PERSONCOUNT  PEDCOUNT  \\\n",
       "0                Injury Collision        Angles            2         0   \n",
       "1  Property Damage Only Collision     Sideswipe            2         0   \n",
       "2  Property Damage Only Collision    Parked Car            4         0   \n",
       "3  Property Damage Only Collision         Other            3         0   \n",
       "4                Injury Collision        Angles            2         0   \n",
       "\n",
       "   PEDCYLCOUNT  VEHCOUNT                             JUNCTIONTYPE   WEATHER  \\\n",
       "0            0         2   At Intersection (intersection related)  Overcast   \n",
       "1            0         2  Mid-Block (not related to intersection)   Raining   \n",
       "2            0         3  Mid-Block (not related to intersection)  Overcast   \n",
       "3            0         3  Mid-Block (not related to intersection)     Clear   \n",
       "4            0         2   At Intersection (intersection related)   Raining   \n",
       "\n",
       "  ROADCOND                LIGHTCOND HITPARKEDCAR  Hour  Dayofweek  Month  \\\n",
       "0      Wet                 Daylight            N    14          2      3   \n",
       "1      Wet  Dark - Street Lights On            N    18          2     12   \n",
       "2      Dry                 Daylight            N    10          3     11   \n",
       "3      Dry                 Daylight            N     9          4      3   \n",
       "4      Wet                 Daylight            N     8          2      1   \n",
       "\n",
       "   Alley  Block  Intersection  \n",
       "0      0      0             1  \n",
       "1      0      1             0  \n",
       "2      0      1             0  \n",
       "3      0      1             0  \n",
       "4      0      0             1  "
      ]
     },
     "execution_count": 134,
     "metadata": {},
     "output_type": "execute_result"
    }
   ],
   "source": [
    "df4 = pd.concat([df3,pd.get_dummies(df['ADDRTYPE'])], axis=1)\n",
    "df4 = df4.drop(['ADDRTYPE'], axis = 1)\n",
    "df4.head()"
   ]
  },
  {
   "cell_type": "markdown",
   "metadata": {},
   "source": [
    "<H4>3.2.2 COLLISIONTYPE"
   ]
  },
  {
   "cell_type": "markdown",
   "metadata": {},
   "source": [
    "Let's do the same for COLLISIONTYPE."
   ]
  },
  {
   "cell_type": "code",
   "execution_count": 135,
   "metadata": {},
   "outputs": [
    {
     "data": {
      "text/plain": [
       "COLLISIONTYPE  SEVERITYDESC                  \n",
       "Angles         Property Damage Only Collision    21050\n",
       "               Injury Collision                  13624\n",
       "Cycles         Injury Collision                   4744\n",
       "               Property Damage Only Collision      671\n",
       "Head On        Property Damage Only Collision     1152\n",
       "               Injury Collision                    872\n",
       "Left Turn      Property Damage Only Collision     8292\n",
       "               Injury Collision                   5411\n",
       "Other          Property Damage Only Collision    17591\n",
       "               Injury Collision                   6112\n",
       "Parked Car     Property Damage Only Collision    45325\n",
       "               Injury Collision                   2662\n",
       "Pedestrian     Injury Collision                   5936\n",
       "               Property Damage Only Collision      672\n",
       "Rear Ended     Property Damage Only Collision    19419\n",
       "               Injury Collision                  14671\n",
       "Right Turn     Property Damage Only Collision     2347\n",
       "               Injury Collision                    609\n",
       "Sideswipe      Property Damage Only Collision    16103\n",
       "               Injury Collision                   2506\n",
       "Name: SEVERITYDESC, dtype: int64"
      ]
     },
     "execution_count": 135,
     "metadata": {},
     "output_type": "execute_result"
    }
   ],
   "source": [
    "df4.groupby(['COLLISIONTYPE'])['SEVERITYDESC'].value_counts(normalize=False)"
   ]
  },
  {
   "cell_type": "code",
   "execution_count": 136,
   "metadata": {},
   "outputs": [
    {
     "data": {
      "text/plain": [
       "COLLISIONTYPE  SEVERITYDESC                  \n",
       "Angles         Property Damage Only Collision    0.607083\n",
       "               Injury Collision                  0.392917\n",
       "Cycles         Injury Collision                  0.876085\n",
       "               Property Damage Only Collision    0.123915\n",
       "Head On        Property Damage Only Collision    0.569170\n",
       "               Injury Collision                  0.430830\n",
       "Left Turn      Property Damage Only Collision    0.605123\n",
       "               Injury Collision                  0.394877\n",
       "Other          Property Damage Only Collision    0.742142\n",
       "               Injury Collision                  0.257858\n",
       "Parked Car     Property Damage Only Collision    0.944527\n",
       "               Injury Collision                  0.055473\n",
       "Pedestrian     Injury Collision                  0.898305\n",
       "               Property Damage Only Collision    0.101695\n",
       "Rear Ended     Property Damage Only Collision    0.569639\n",
       "               Injury Collision                  0.430361\n",
       "Right Turn     Property Damage Only Collision    0.793978\n",
       "               Injury Collision                  0.206022\n",
       "Sideswipe      Property Damage Only Collision    0.865334\n",
       "               Injury Collision                  0.134666\n",
       "Name: SEVERITYDESC, dtype: float64"
      ]
     },
     "execution_count": 136,
     "metadata": {},
     "output_type": "execute_result"
    }
   ],
   "source": [
    "df4.groupby(['COLLISIONTYPE'])['SEVERITYDESC'].value_counts(normalize=True)"
   ]
  },
  {
   "cell_type": "code",
   "execution_count": 137,
   "metadata": {},
   "outputs": [
    {
     "data": {
      "text/html": [
       "<div>\n",
       "<style scoped>\n",
       "    .dataframe tbody tr th:only-of-type {\n",
       "        vertical-align: middle;\n",
       "    }\n",
       "\n",
       "    .dataframe tbody tr th {\n",
       "        vertical-align: top;\n",
       "    }\n",
       "\n",
       "    .dataframe thead th {\n",
       "        text-align: right;\n",
       "    }\n",
       "</style>\n",
       "<table border=\"1\" class=\"dataframe\">\n",
       "  <thead>\n",
       "    <tr style=\"text-align: right;\">\n",
       "      <th></th>\n",
       "      <th>SEVERITYDESC</th>\n",
       "      <th>PERSONCOUNT</th>\n",
       "      <th>PEDCOUNT</th>\n",
       "      <th>PEDCYLCOUNT</th>\n",
       "      <th>VEHCOUNT</th>\n",
       "      <th>JUNCTIONTYPE</th>\n",
       "      <th>WEATHER</th>\n",
       "      <th>ROADCOND</th>\n",
       "      <th>LIGHTCOND</th>\n",
       "      <th>HITPARKEDCAR</th>\n",
       "      <th>...</th>\n",
       "      <th>Angles</th>\n",
       "      <th>Cycles</th>\n",
       "      <th>Head On</th>\n",
       "      <th>Left Turn</th>\n",
       "      <th>Other</th>\n",
       "      <th>Parked Car</th>\n",
       "      <th>Pedestrian</th>\n",
       "      <th>Rear Ended</th>\n",
       "      <th>Right Turn</th>\n",
       "      <th>Sideswipe</th>\n",
       "    </tr>\n",
       "  </thead>\n",
       "  <tbody>\n",
       "    <tr>\n",
       "      <th>0</th>\n",
       "      <td>Injury Collision</td>\n",
       "      <td>2</td>\n",
       "      <td>0</td>\n",
       "      <td>0</td>\n",
       "      <td>2</td>\n",
       "      <td>At Intersection (intersection related)</td>\n",
       "      <td>Overcast</td>\n",
       "      <td>Wet</td>\n",
       "      <td>Daylight</td>\n",
       "      <td>N</td>\n",
       "      <td>...</td>\n",
       "      <td>1</td>\n",
       "      <td>0</td>\n",
       "      <td>0</td>\n",
       "      <td>0</td>\n",
       "      <td>0</td>\n",
       "      <td>0</td>\n",
       "      <td>0</td>\n",
       "      <td>0</td>\n",
       "      <td>0</td>\n",
       "      <td>0</td>\n",
       "    </tr>\n",
       "    <tr>\n",
       "      <th>1</th>\n",
       "      <td>Property Damage Only Collision</td>\n",
       "      <td>2</td>\n",
       "      <td>0</td>\n",
       "      <td>0</td>\n",
       "      <td>2</td>\n",
       "      <td>Mid-Block (not related to intersection)</td>\n",
       "      <td>Raining</td>\n",
       "      <td>Wet</td>\n",
       "      <td>Dark - Street Lights On</td>\n",
       "      <td>N</td>\n",
       "      <td>...</td>\n",
       "      <td>0</td>\n",
       "      <td>0</td>\n",
       "      <td>0</td>\n",
       "      <td>0</td>\n",
       "      <td>0</td>\n",
       "      <td>0</td>\n",
       "      <td>0</td>\n",
       "      <td>0</td>\n",
       "      <td>0</td>\n",
       "      <td>1</td>\n",
       "    </tr>\n",
       "    <tr>\n",
       "      <th>2</th>\n",
       "      <td>Property Damage Only Collision</td>\n",
       "      <td>4</td>\n",
       "      <td>0</td>\n",
       "      <td>0</td>\n",
       "      <td>3</td>\n",
       "      <td>Mid-Block (not related to intersection)</td>\n",
       "      <td>Overcast</td>\n",
       "      <td>Dry</td>\n",
       "      <td>Daylight</td>\n",
       "      <td>N</td>\n",
       "      <td>...</td>\n",
       "      <td>0</td>\n",
       "      <td>0</td>\n",
       "      <td>0</td>\n",
       "      <td>0</td>\n",
       "      <td>0</td>\n",
       "      <td>1</td>\n",
       "      <td>0</td>\n",
       "      <td>0</td>\n",
       "      <td>0</td>\n",
       "      <td>0</td>\n",
       "    </tr>\n",
       "    <tr>\n",
       "      <th>3</th>\n",
       "      <td>Property Damage Only Collision</td>\n",
       "      <td>3</td>\n",
       "      <td>0</td>\n",
       "      <td>0</td>\n",
       "      <td>3</td>\n",
       "      <td>Mid-Block (not related to intersection)</td>\n",
       "      <td>Clear</td>\n",
       "      <td>Dry</td>\n",
       "      <td>Daylight</td>\n",
       "      <td>N</td>\n",
       "      <td>...</td>\n",
       "      <td>0</td>\n",
       "      <td>0</td>\n",
       "      <td>0</td>\n",
       "      <td>0</td>\n",
       "      <td>1</td>\n",
       "      <td>0</td>\n",
       "      <td>0</td>\n",
       "      <td>0</td>\n",
       "      <td>0</td>\n",
       "      <td>0</td>\n",
       "    </tr>\n",
       "    <tr>\n",
       "      <th>4</th>\n",
       "      <td>Injury Collision</td>\n",
       "      <td>2</td>\n",
       "      <td>0</td>\n",
       "      <td>0</td>\n",
       "      <td>2</td>\n",
       "      <td>At Intersection (intersection related)</td>\n",
       "      <td>Raining</td>\n",
       "      <td>Wet</td>\n",
       "      <td>Daylight</td>\n",
       "      <td>N</td>\n",
       "      <td>...</td>\n",
       "      <td>1</td>\n",
       "      <td>0</td>\n",
       "      <td>0</td>\n",
       "      <td>0</td>\n",
       "      <td>0</td>\n",
       "      <td>0</td>\n",
       "      <td>0</td>\n",
       "      <td>0</td>\n",
       "      <td>0</td>\n",
       "      <td>0</td>\n",
       "    </tr>\n",
       "  </tbody>\n",
       "</table>\n",
       "<p>5 rows × 26 columns</p>\n",
       "</div>"
      ],
      "text/plain": [
       "                     SEVERITYDESC  PERSONCOUNT  PEDCOUNT  PEDCYLCOUNT  \\\n",
       "0                Injury Collision            2         0            0   \n",
       "1  Property Damage Only Collision            2         0            0   \n",
       "2  Property Damage Only Collision            4         0            0   \n",
       "3  Property Damage Only Collision            3         0            0   \n",
       "4                Injury Collision            2         0            0   \n",
       "\n",
       "   VEHCOUNT                             JUNCTIONTYPE   WEATHER ROADCOND  \\\n",
       "0         2   At Intersection (intersection related)  Overcast      Wet   \n",
       "1         2  Mid-Block (not related to intersection)   Raining      Wet   \n",
       "2         3  Mid-Block (not related to intersection)  Overcast      Dry   \n",
       "3         3  Mid-Block (not related to intersection)     Clear      Dry   \n",
       "4         2   At Intersection (intersection related)   Raining      Wet   \n",
       "\n",
       "                 LIGHTCOND HITPARKEDCAR  ...  Angles  Cycles  Head On  \\\n",
       "0                 Daylight            N  ...       1       0        0   \n",
       "1  Dark - Street Lights On            N  ...       0       0        0   \n",
       "2                 Daylight            N  ...       0       0        0   \n",
       "3                 Daylight            N  ...       0       0        0   \n",
       "4                 Daylight            N  ...       1       0        0   \n",
       "\n",
       "   Left Turn  Other  Parked Car  Pedestrian  Rear Ended  Right Turn  Sideswipe  \n",
       "0          0      0           0           0           0           0          0  \n",
       "1          0      0           0           0           0           0          1  \n",
       "2          0      0           1           0           0           0          0  \n",
       "3          0      1           0           0           0           0          0  \n",
       "4          0      0           0           0           0           0          0  \n",
       "\n",
       "[5 rows x 26 columns]"
      ]
     },
     "execution_count": 137,
     "metadata": {},
     "output_type": "execute_result"
    }
   ],
   "source": [
    "df4 = pd.concat([df4,pd.get_dummies(df['COLLISIONTYPE'])], axis=1)\n",
    "df4 = df4.drop(['COLLISIONTYPE'], axis = 1)\n",
    "df4.head()"
   ]
  },
  {
   "cell_type": "markdown",
   "metadata": {},
   "source": [
    "<h4>3.2.3 WEATHER"
   ]
  },
  {
   "cell_type": "markdown",
   "metadata": {},
   "source": [
    "Let's do the same for WEATHER:"
   ]
  },
  {
   "cell_type": "code",
   "execution_count": 138,
   "metadata": {},
   "outputs": [
    {
     "data": {
      "text/plain": [
       "WEATHER                   SEVERITYDESC                  \n",
       "Blowing Sand/Dirt         Property Damage Only Collision       41\n",
       "                          Injury Collision                     15\n",
       "Clear                     Property Damage Only Collision    75295\n",
       "                          Injury Collision                  35840\n",
       "Fog/Smog/Smoke            Property Damage Only Collision      382\n",
       "                          Injury Collision                    187\n",
       "Other                     Property Damage Only Collision      716\n",
       "                          Injury Collision                    116\n",
       "Overcast                  Property Damage Only Collision    18969\n",
       "                          Injury Collision                   8745\n",
       "Partly Cloudy             Injury Collision                      3\n",
       "                          Property Damage Only Collision        2\n",
       "Raining                   Property Damage Only Collision    21969\n",
       "                          Injury Collision                  11176\n",
       "Severe Crosswind          Property Damage Only Collision       18\n",
       "                          Injury Collision                      7\n",
       "Sleet/Hail/Freezing Rain  Property Damage Only Collision       85\n",
       "                          Injury Collision                     28\n",
       "Snowing                   Property Damage Only Collision      736\n",
       "                          Injury Collision                    171\n",
       "Unknown                   Property Damage Only Collision    14275\n",
       "                          Injury Collision                    816\n",
       "Name: SEVERITYDESC, dtype: int64"
      ]
     },
     "execution_count": 138,
     "metadata": {},
     "output_type": "execute_result"
    }
   ],
   "source": [
    "df4.groupby(['WEATHER'])['SEVERITYDESC'].value_counts(normalize=False)"
   ]
  },
  {
   "cell_type": "code",
   "execution_count": 139,
   "metadata": {},
   "outputs": [
    {
     "data": {
      "text/plain": [
       "WEATHER                   SEVERITYDESC                  \n",
       "Blowing Sand/Dirt         Property Damage Only Collision    0.732143\n",
       "                          Injury Collision                  0.267857\n",
       "Clear                     Property Damage Only Collision    0.677509\n",
       "                          Injury Collision                  0.322491\n",
       "Fog/Smog/Smoke            Property Damage Only Collision    0.671353\n",
       "                          Injury Collision                  0.328647\n",
       "Other                     Property Damage Only Collision    0.860577\n",
       "                          Injury Collision                  0.139423\n",
       "Overcast                  Property Damage Only Collision    0.684456\n",
       "                          Injury Collision                  0.315544\n",
       "Partly Cloudy             Injury Collision                  0.600000\n",
       "                          Property Damage Only Collision    0.400000\n",
       "Raining                   Property Damage Only Collision    0.662815\n",
       "                          Injury Collision                  0.337185\n",
       "Severe Crosswind          Property Damage Only Collision    0.720000\n",
       "                          Injury Collision                  0.280000\n",
       "Sleet/Hail/Freezing Rain  Property Damage Only Collision    0.752212\n",
       "                          Injury Collision                  0.247788\n",
       "Snowing                   Property Damage Only Collision    0.811466\n",
       "                          Injury Collision                  0.188534\n",
       "Unknown                   Property Damage Only Collision    0.945928\n",
       "                          Injury Collision                  0.054072\n",
       "Name: SEVERITYDESC, dtype: float64"
      ]
     },
     "execution_count": 139,
     "metadata": {},
     "output_type": "execute_result"
    }
   ],
   "source": [
    "df4.groupby(['WEATHER'])['SEVERITYDESC'].value_counts(normalize=True)"
   ]
  },
  {
   "cell_type": "code",
   "execution_count": 140,
   "metadata": {},
   "outputs": [
    {
     "data": {
      "text/html": [
       "<div>\n",
       "<style scoped>\n",
       "    .dataframe tbody tr th:only-of-type {\n",
       "        vertical-align: middle;\n",
       "    }\n",
       "\n",
       "    .dataframe tbody tr th {\n",
       "        vertical-align: top;\n",
       "    }\n",
       "\n",
       "    .dataframe thead th {\n",
       "        text-align: right;\n",
       "    }\n",
       "</style>\n",
       "<table border=\"1\" class=\"dataframe\">\n",
       "  <thead>\n",
       "    <tr style=\"text-align: right;\">\n",
       "      <th></th>\n",
       "      <th>SEVERITYDESC</th>\n",
       "      <th>PERSONCOUNT</th>\n",
       "      <th>PEDCOUNT</th>\n",
       "      <th>PEDCYLCOUNT</th>\n",
       "      <th>VEHCOUNT</th>\n",
       "      <th>JUNCTIONTYPE</th>\n",
       "      <th>ROADCOND</th>\n",
       "      <th>LIGHTCOND</th>\n",
       "      <th>HITPARKEDCAR</th>\n",
       "      <th>Hour</th>\n",
       "      <th>...</th>\n",
       "      <th>Clear</th>\n",
       "      <th>Fog/Smog/Smoke</th>\n",
       "      <th>Other</th>\n",
       "      <th>Overcast</th>\n",
       "      <th>Partly Cloudy</th>\n",
       "      <th>Raining</th>\n",
       "      <th>Severe Crosswind</th>\n",
       "      <th>Sleet/Hail/Freezing Rain</th>\n",
       "      <th>Snowing</th>\n",
       "      <th>Unknown</th>\n",
       "    </tr>\n",
       "  </thead>\n",
       "  <tbody>\n",
       "    <tr>\n",
       "      <th>0</th>\n",
       "      <td>Injury Collision</td>\n",
       "      <td>2</td>\n",
       "      <td>0</td>\n",
       "      <td>0</td>\n",
       "      <td>2</td>\n",
       "      <td>At Intersection (intersection related)</td>\n",
       "      <td>Wet</td>\n",
       "      <td>Daylight</td>\n",
       "      <td>N</td>\n",
       "      <td>14</td>\n",
       "      <td>...</td>\n",
       "      <td>0</td>\n",
       "      <td>0</td>\n",
       "      <td>0</td>\n",
       "      <td>1</td>\n",
       "      <td>0</td>\n",
       "      <td>0</td>\n",
       "      <td>0</td>\n",
       "      <td>0</td>\n",
       "      <td>0</td>\n",
       "      <td>0</td>\n",
       "    </tr>\n",
       "    <tr>\n",
       "      <th>1</th>\n",
       "      <td>Property Damage Only Collision</td>\n",
       "      <td>2</td>\n",
       "      <td>0</td>\n",
       "      <td>0</td>\n",
       "      <td>2</td>\n",
       "      <td>Mid-Block (not related to intersection)</td>\n",
       "      <td>Wet</td>\n",
       "      <td>Dark - Street Lights On</td>\n",
       "      <td>N</td>\n",
       "      <td>18</td>\n",
       "      <td>...</td>\n",
       "      <td>0</td>\n",
       "      <td>0</td>\n",
       "      <td>0</td>\n",
       "      <td>0</td>\n",
       "      <td>0</td>\n",
       "      <td>1</td>\n",
       "      <td>0</td>\n",
       "      <td>0</td>\n",
       "      <td>0</td>\n",
       "      <td>0</td>\n",
       "    </tr>\n",
       "    <tr>\n",
       "      <th>2</th>\n",
       "      <td>Property Damage Only Collision</td>\n",
       "      <td>4</td>\n",
       "      <td>0</td>\n",
       "      <td>0</td>\n",
       "      <td>3</td>\n",
       "      <td>Mid-Block (not related to intersection)</td>\n",
       "      <td>Dry</td>\n",
       "      <td>Daylight</td>\n",
       "      <td>N</td>\n",
       "      <td>10</td>\n",
       "      <td>...</td>\n",
       "      <td>0</td>\n",
       "      <td>0</td>\n",
       "      <td>0</td>\n",
       "      <td>1</td>\n",
       "      <td>0</td>\n",
       "      <td>0</td>\n",
       "      <td>0</td>\n",
       "      <td>0</td>\n",
       "      <td>0</td>\n",
       "      <td>0</td>\n",
       "    </tr>\n",
       "    <tr>\n",
       "      <th>3</th>\n",
       "      <td>Property Damage Only Collision</td>\n",
       "      <td>3</td>\n",
       "      <td>0</td>\n",
       "      <td>0</td>\n",
       "      <td>3</td>\n",
       "      <td>Mid-Block (not related to intersection)</td>\n",
       "      <td>Dry</td>\n",
       "      <td>Daylight</td>\n",
       "      <td>N</td>\n",
       "      <td>9</td>\n",
       "      <td>...</td>\n",
       "      <td>1</td>\n",
       "      <td>0</td>\n",
       "      <td>0</td>\n",
       "      <td>0</td>\n",
       "      <td>0</td>\n",
       "      <td>0</td>\n",
       "      <td>0</td>\n",
       "      <td>0</td>\n",
       "      <td>0</td>\n",
       "      <td>0</td>\n",
       "    </tr>\n",
       "    <tr>\n",
       "      <th>4</th>\n",
       "      <td>Injury Collision</td>\n",
       "      <td>2</td>\n",
       "      <td>0</td>\n",
       "      <td>0</td>\n",
       "      <td>2</td>\n",
       "      <td>At Intersection (intersection related)</td>\n",
       "      <td>Wet</td>\n",
       "      <td>Daylight</td>\n",
       "      <td>N</td>\n",
       "      <td>8</td>\n",
       "      <td>...</td>\n",
       "      <td>0</td>\n",
       "      <td>0</td>\n",
       "      <td>0</td>\n",
       "      <td>0</td>\n",
       "      <td>0</td>\n",
       "      <td>1</td>\n",
       "      <td>0</td>\n",
       "      <td>0</td>\n",
       "      <td>0</td>\n",
       "      <td>0</td>\n",
       "    </tr>\n",
       "  </tbody>\n",
       "</table>\n",
       "<p>5 rows × 36 columns</p>\n",
       "</div>"
      ],
      "text/plain": [
       "                     SEVERITYDESC  PERSONCOUNT  PEDCOUNT  PEDCYLCOUNT  \\\n",
       "0                Injury Collision            2         0            0   \n",
       "1  Property Damage Only Collision            2         0            0   \n",
       "2  Property Damage Only Collision            4         0            0   \n",
       "3  Property Damage Only Collision            3         0            0   \n",
       "4                Injury Collision            2         0            0   \n",
       "\n",
       "   VEHCOUNT                             JUNCTIONTYPE ROADCOND  \\\n",
       "0         2   At Intersection (intersection related)      Wet   \n",
       "1         2  Mid-Block (not related to intersection)      Wet   \n",
       "2         3  Mid-Block (not related to intersection)      Dry   \n",
       "3         3  Mid-Block (not related to intersection)      Dry   \n",
       "4         2   At Intersection (intersection related)      Wet   \n",
       "\n",
       "                 LIGHTCOND HITPARKEDCAR  Hour  ...  Clear  Fog/Smog/Smoke  \\\n",
       "0                 Daylight            N    14  ...      0               0   \n",
       "1  Dark - Street Lights On            N    18  ...      0               0   \n",
       "2                 Daylight            N    10  ...      0               0   \n",
       "3                 Daylight            N     9  ...      1               0   \n",
       "4                 Daylight            N     8  ...      0               0   \n",
       "\n",
       "   Other  Overcast  Partly Cloudy  Raining  Severe Crosswind  \\\n",
       "0      0         1              0        0                 0   \n",
       "1      0         0              0        1                 0   \n",
       "2      0         1              0        0                 0   \n",
       "3      0         0              0        0                 0   \n",
       "4      0         0              0        1                 0   \n",
       "\n",
       "   Sleet/Hail/Freezing Rain  Snowing  Unknown  \n",
       "0                         0        0        0  \n",
       "1                         0        0        0  \n",
       "2                         0        0        0  \n",
       "3                         0        0        0  \n",
       "4                         0        0        0  \n",
       "\n",
       "[5 rows x 36 columns]"
      ]
     },
     "execution_count": 140,
     "metadata": {},
     "output_type": "execute_result"
    }
   ],
   "source": [
    "df4 = pd.concat([df4,pd.get_dummies(df['WEATHER'])], axis=1)\n",
    "df4 = df4.drop(['WEATHER'], axis = 1)\n",
    "df4.head()"
   ]
  },
  {
   "cell_type": "markdown",
   "metadata": {},
   "source": [
    "<H4>3.2.4 ROADCOND"
   ]
  },
  {
   "cell_type": "markdown",
   "metadata": {},
   "source": [
    "Let's also do the same for ROADCOND:"
   ]
  },
  {
   "cell_type": "code",
   "execution_count": 141,
   "metadata": {},
   "outputs": [
    {
     "data": {
      "text/plain": [
       "ROADCOND        SEVERITYDESC                  \n",
       "Dry             Property Damage Only Collision    84446\n",
       "                Injury Collision                  40064\n",
       "Ice             Property Damage Only Collision      936\n",
       "                Injury Collision                    273\n",
       "Oil             Property Damage Only Collision       40\n",
       "                Injury Collision                     24\n",
       "Other           Property Damage Only Collision       89\n",
       "                Injury Collision                     43\n",
       "Sand/Mud/Dirt   Property Damage Only Collision       52\n",
       "                Injury Collision                     23\n",
       "Snow/Slush      Property Damage Only Collision      837\n",
       "                Injury Collision                    167\n",
       "Standing Water  Property Damage Only Collision       85\n",
       "                Injury Collision                     30\n",
       "Unknown         Property Damage Only Collision    14329\n",
       "                Injury Collision                    749\n",
       "Wet             Property Damage Only Collision    31719\n",
       "                Injury Collision                  15755\n",
       "Name: SEVERITYDESC, dtype: int64"
      ]
     },
     "execution_count": 141,
     "metadata": {},
     "output_type": "execute_result"
    }
   ],
   "source": [
    "df4.groupby(['ROADCOND'])['SEVERITYDESC'].value_counts(normalize=False)"
   ]
  },
  {
   "cell_type": "code",
   "execution_count": 142,
   "metadata": {},
   "outputs": [
    {
     "data": {
      "text/plain": [
       "ROADCOND        SEVERITYDESC                  \n",
       "Dry             Property Damage Only Collision    0.678227\n",
       "                Injury Collision                  0.321773\n",
       "Ice             Property Damage Only Collision    0.774194\n",
       "                Injury Collision                  0.225806\n",
       "Oil             Property Damage Only Collision    0.625000\n",
       "                Injury Collision                  0.375000\n",
       "Other           Property Damage Only Collision    0.674242\n",
       "                Injury Collision                  0.325758\n",
       "Sand/Mud/Dirt   Property Damage Only Collision    0.693333\n",
       "                Injury Collision                  0.306667\n",
       "Snow/Slush      Property Damage Only Collision    0.833665\n",
       "                Injury Collision                  0.166335\n",
       "Standing Water  Property Damage Only Collision    0.739130\n",
       "                Injury Collision                  0.260870\n",
       "Unknown         Property Damage Only Collision    0.950325\n",
       "                Injury Collision                  0.049675\n",
       "Wet             Property Damage Only Collision    0.668134\n",
       "                Injury Collision                  0.331866\n",
       "Name: SEVERITYDESC, dtype: float64"
      ]
     },
     "execution_count": 142,
     "metadata": {},
     "output_type": "execute_result"
    }
   ],
   "source": [
    "df4.groupby(['ROADCOND'])['SEVERITYDESC'].value_counts(normalize=True)"
   ]
  },
  {
   "cell_type": "code",
   "execution_count": 143,
   "metadata": {},
   "outputs": [
    {
     "data": {
      "text/html": [
       "<div>\n",
       "<style scoped>\n",
       "    .dataframe tbody tr th:only-of-type {\n",
       "        vertical-align: middle;\n",
       "    }\n",
       "\n",
       "    .dataframe tbody tr th {\n",
       "        vertical-align: top;\n",
       "    }\n",
       "\n",
       "    .dataframe thead th {\n",
       "        text-align: right;\n",
       "    }\n",
       "</style>\n",
       "<table border=\"1\" class=\"dataframe\">\n",
       "  <thead>\n",
       "    <tr style=\"text-align: right;\">\n",
       "      <th></th>\n",
       "      <th>SEVERITYDESC</th>\n",
       "      <th>PERSONCOUNT</th>\n",
       "      <th>PEDCOUNT</th>\n",
       "      <th>PEDCYLCOUNT</th>\n",
       "      <th>VEHCOUNT</th>\n",
       "      <th>JUNCTIONTYPE</th>\n",
       "      <th>LIGHTCOND</th>\n",
       "      <th>HITPARKEDCAR</th>\n",
       "      <th>Hour</th>\n",
       "      <th>Dayofweek</th>\n",
       "      <th>...</th>\n",
       "      <th>Unknown</th>\n",
       "      <th>Dry</th>\n",
       "      <th>Ice</th>\n",
       "      <th>Oil</th>\n",
       "      <th>Other</th>\n",
       "      <th>Sand/Mud/Dirt</th>\n",
       "      <th>Snow/Slush</th>\n",
       "      <th>Standing Water</th>\n",
       "      <th>Unknown</th>\n",
       "      <th>Wet</th>\n",
       "    </tr>\n",
       "  </thead>\n",
       "  <tbody>\n",
       "    <tr>\n",
       "      <th>0</th>\n",
       "      <td>Injury Collision</td>\n",
       "      <td>2</td>\n",
       "      <td>0</td>\n",
       "      <td>0</td>\n",
       "      <td>2</td>\n",
       "      <td>At Intersection (intersection related)</td>\n",
       "      <td>Daylight</td>\n",
       "      <td>N</td>\n",
       "      <td>14</td>\n",
       "      <td>2</td>\n",
       "      <td>...</td>\n",
       "      <td>0</td>\n",
       "      <td>0</td>\n",
       "      <td>0</td>\n",
       "      <td>0</td>\n",
       "      <td>0</td>\n",
       "      <td>0</td>\n",
       "      <td>0</td>\n",
       "      <td>0</td>\n",
       "      <td>0</td>\n",
       "      <td>1</td>\n",
       "    </tr>\n",
       "    <tr>\n",
       "      <th>1</th>\n",
       "      <td>Property Damage Only Collision</td>\n",
       "      <td>2</td>\n",
       "      <td>0</td>\n",
       "      <td>0</td>\n",
       "      <td>2</td>\n",
       "      <td>Mid-Block (not related to intersection)</td>\n",
       "      <td>Dark - Street Lights On</td>\n",
       "      <td>N</td>\n",
       "      <td>18</td>\n",
       "      <td>2</td>\n",
       "      <td>...</td>\n",
       "      <td>0</td>\n",
       "      <td>0</td>\n",
       "      <td>0</td>\n",
       "      <td>0</td>\n",
       "      <td>0</td>\n",
       "      <td>0</td>\n",
       "      <td>0</td>\n",
       "      <td>0</td>\n",
       "      <td>0</td>\n",
       "      <td>1</td>\n",
       "    </tr>\n",
       "    <tr>\n",
       "      <th>2</th>\n",
       "      <td>Property Damage Only Collision</td>\n",
       "      <td>4</td>\n",
       "      <td>0</td>\n",
       "      <td>0</td>\n",
       "      <td>3</td>\n",
       "      <td>Mid-Block (not related to intersection)</td>\n",
       "      <td>Daylight</td>\n",
       "      <td>N</td>\n",
       "      <td>10</td>\n",
       "      <td>3</td>\n",
       "      <td>...</td>\n",
       "      <td>0</td>\n",
       "      <td>1</td>\n",
       "      <td>0</td>\n",
       "      <td>0</td>\n",
       "      <td>0</td>\n",
       "      <td>0</td>\n",
       "      <td>0</td>\n",
       "      <td>0</td>\n",
       "      <td>0</td>\n",
       "      <td>0</td>\n",
       "    </tr>\n",
       "    <tr>\n",
       "      <th>3</th>\n",
       "      <td>Property Damage Only Collision</td>\n",
       "      <td>3</td>\n",
       "      <td>0</td>\n",
       "      <td>0</td>\n",
       "      <td>3</td>\n",
       "      <td>Mid-Block (not related to intersection)</td>\n",
       "      <td>Daylight</td>\n",
       "      <td>N</td>\n",
       "      <td>9</td>\n",
       "      <td>4</td>\n",
       "      <td>...</td>\n",
       "      <td>0</td>\n",
       "      <td>1</td>\n",
       "      <td>0</td>\n",
       "      <td>0</td>\n",
       "      <td>0</td>\n",
       "      <td>0</td>\n",
       "      <td>0</td>\n",
       "      <td>0</td>\n",
       "      <td>0</td>\n",
       "      <td>0</td>\n",
       "    </tr>\n",
       "    <tr>\n",
       "      <th>4</th>\n",
       "      <td>Injury Collision</td>\n",
       "      <td>2</td>\n",
       "      <td>0</td>\n",
       "      <td>0</td>\n",
       "      <td>2</td>\n",
       "      <td>At Intersection (intersection related)</td>\n",
       "      <td>Daylight</td>\n",
       "      <td>N</td>\n",
       "      <td>8</td>\n",
       "      <td>2</td>\n",
       "      <td>...</td>\n",
       "      <td>0</td>\n",
       "      <td>0</td>\n",
       "      <td>0</td>\n",
       "      <td>0</td>\n",
       "      <td>0</td>\n",
       "      <td>0</td>\n",
       "      <td>0</td>\n",
       "      <td>0</td>\n",
       "      <td>0</td>\n",
       "      <td>1</td>\n",
       "    </tr>\n",
       "  </tbody>\n",
       "</table>\n",
       "<p>5 rows × 44 columns</p>\n",
       "</div>"
      ],
      "text/plain": [
       "                     SEVERITYDESC  PERSONCOUNT  PEDCOUNT  PEDCYLCOUNT  \\\n",
       "0                Injury Collision            2         0            0   \n",
       "1  Property Damage Only Collision            2         0            0   \n",
       "2  Property Damage Only Collision            4         0            0   \n",
       "3  Property Damage Only Collision            3         0            0   \n",
       "4                Injury Collision            2         0            0   \n",
       "\n",
       "   VEHCOUNT                             JUNCTIONTYPE                LIGHTCOND  \\\n",
       "0         2   At Intersection (intersection related)                 Daylight   \n",
       "1         2  Mid-Block (not related to intersection)  Dark - Street Lights On   \n",
       "2         3  Mid-Block (not related to intersection)                 Daylight   \n",
       "3         3  Mid-Block (not related to intersection)                 Daylight   \n",
       "4         2   At Intersection (intersection related)                 Daylight   \n",
       "\n",
       "  HITPARKEDCAR  Hour  Dayofweek  ...  Unknown  Dry  Ice  Oil  Other  \\\n",
       "0            N    14          2  ...        0    0    0    0      0   \n",
       "1            N    18          2  ...        0    0    0    0      0   \n",
       "2            N    10          3  ...        0    1    0    0      0   \n",
       "3            N     9          4  ...        0    1    0    0      0   \n",
       "4            N     8          2  ...        0    0    0    0      0   \n",
       "\n",
       "   Sand/Mud/Dirt  Snow/Slush  Standing Water  Unknown  Wet  \n",
       "0              0           0               0        0    1  \n",
       "1              0           0               0        0    1  \n",
       "2              0           0               0        0    0  \n",
       "3              0           0               0        0    0  \n",
       "4              0           0               0        0    1  \n",
       "\n",
       "[5 rows x 44 columns]"
      ]
     },
     "execution_count": 143,
     "metadata": {},
     "output_type": "execute_result"
    }
   ],
   "source": [
    "df4 = pd.concat([df4,pd.get_dummies(df['ROADCOND'])], axis=1)\n",
    "df4 = df4.drop(['ROADCOND'], axis = 1)\n",
    "df4.head()"
   ]
  },
  {
   "cell_type": "markdown",
   "metadata": {},
   "source": [
    "<H4> 3.2.5 LIGHTCOND"
   ]
  },
  {
   "cell_type": "markdown",
   "metadata": {},
   "source": [
    "Let's do the same for LIGHTCOND"
   ]
  },
  {
   "cell_type": "code",
   "execution_count": 144,
   "metadata": {},
   "outputs": [
    {
     "data": {
      "text/plain": [
       "LIGHTCOND                 SEVERITYDESC                  \n",
       "Dark - No Street Lights   Property Damage Only Collision     1203\n",
       "                          Injury Collision                    334\n",
       "Dark - Street Lights Off  Property Damage Only Collision      883\n",
       "                          Injury Collision                    316\n",
       "Dark - Street Lights On   Property Damage Only Collision    34032\n",
       "                          Injury Collision                  14475\n",
       "Dark - Unknown Lighting   Property Damage Only Collision        7\n",
       "                          Injury Collision                      4\n",
       "Dawn                      Property Damage Only Collision     1678\n",
       "                          Injury Collision                    824\n",
       "Daylight                  Property Damage Only Collision    77593\n",
       "                          Injury Collision                  38544\n",
       "Dusk                      Property Damage Only Collision     3958\n",
       "                          Injury Collision                   1944\n",
       "Other                     Property Damage Only Collision      183\n",
       "                          Injury Collision                     52\n",
       "Unknown                   Property Damage Only Collision    12868\n",
       "                          Injury Collision                    605\n",
       "Name: SEVERITYDESC, dtype: int64"
      ]
     },
     "execution_count": 144,
     "metadata": {},
     "output_type": "execute_result"
    }
   ],
   "source": [
    "df4.groupby(['LIGHTCOND'])['SEVERITYDESC'].value_counts(normalize=False)"
   ]
  },
  {
   "cell_type": "code",
   "execution_count": 145,
   "metadata": {},
   "outputs": [
    {
     "data": {
      "text/plain": [
       "LIGHTCOND                 SEVERITYDESC                  \n",
       "Dark - No Street Lights   Property Damage Only Collision    0.782694\n",
       "                          Injury Collision                  0.217306\n",
       "Dark - Street Lights Off  Property Damage Only Collision    0.736447\n",
       "                          Injury Collision                  0.263553\n",
       "Dark - Street Lights On   Property Damage Only Collision    0.701589\n",
       "                          Injury Collision                  0.298411\n",
       "Dark - Unknown Lighting   Property Damage Only Collision    0.636364\n",
       "                          Injury Collision                  0.363636\n",
       "Dawn                      Property Damage Only Collision    0.670663\n",
       "                          Injury Collision                  0.329337\n",
       "Daylight                  Property Damage Only Collision    0.668116\n",
       "                          Injury Collision                  0.331884\n",
       "Dusk                      Property Damage Only Collision    0.670620\n",
       "                          Injury Collision                  0.329380\n",
       "Other                     Property Damage Only Collision    0.778723\n",
       "                          Injury Collision                  0.221277\n",
       "Unknown                   Property Damage Only Collision    0.955095\n",
       "                          Injury Collision                  0.044905\n",
       "Name: SEVERITYDESC, dtype: float64"
      ]
     },
     "execution_count": 145,
     "metadata": {},
     "output_type": "execute_result"
    }
   ],
   "source": [
    "df4.groupby(['LIGHTCOND'])['SEVERITYDESC'].value_counts(normalize=True)"
   ]
  },
  {
   "cell_type": "code",
   "execution_count": 146,
   "metadata": {},
   "outputs": [
    {
     "data": {
      "text/html": [
       "<div>\n",
       "<style scoped>\n",
       "    .dataframe tbody tr th:only-of-type {\n",
       "        vertical-align: middle;\n",
       "    }\n",
       "\n",
       "    .dataframe tbody tr th {\n",
       "        vertical-align: top;\n",
       "    }\n",
       "\n",
       "    .dataframe thead th {\n",
       "        text-align: right;\n",
       "    }\n",
       "</style>\n",
       "<table border=\"1\" class=\"dataframe\">\n",
       "  <thead>\n",
       "    <tr style=\"text-align: right;\">\n",
       "      <th></th>\n",
       "      <th>SEVERITYDESC</th>\n",
       "      <th>PERSONCOUNT</th>\n",
       "      <th>PEDCOUNT</th>\n",
       "      <th>PEDCYLCOUNT</th>\n",
       "      <th>VEHCOUNT</th>\n",
       "      <th>JUNCTIONTYPE</th>\n",
       "      <th>HITPARKEDCAR</th>\n",
       "      <th>Hour</th>\n",
       "      <th>Dayofweek</th>\n",
       "      <th>Month</th>\n",
       "      <th>...</th>\n",
       "      <th>Wet</th>\n",
       "      <th>Dark - No Street Lights</th>\n",
       "      <th>Dark - Street Lights Off</th>\n",
       "      <th>Dark - Street Lights On</th>\n",
       "      <th>Dark - Unknown Lighting</th>\n",
       "      <th>Dawn</th>\n",
       "      <th>Daylight</th>\n",
       "      <th>Dusk</th>\n",
       "      <th>Other</th>\n",
       "      <th>Unknown</th>\n",
       "    </tr>\n",
       "  </thead>\n",
       "  <tbody>\n",
       "    <tr>\n",
       "      <th>0</th>\n",
       "      <td>Injury Collision</td>\n",
       "      <td>2</td>\n",
       "      <td>0</td>\n",
       "      <td>0</td>\n",
       "      <td>2</td>\n",
       "      <td>At Intersection (intersection related)</td>\n",
       "      <td>N</td>\n",
       "      <td>14</td>\n",
       "      <td>2</td>\n",
       "      <td>3</td>\n",
       "      <td>...</td>\n",
       "      <td>1</td>\n",
       "      <td>0</td>\n",
       "      <td>0</td>\n",
       "      <td>0</td>\n",
       "      <td>0</td>\n",
       "      <td>0</td>\n",
       "      <td>1</td>\n",
       "      <td>0</td>\n",
       "      <td>0</td>\n",
       "      <td>0</td>\n",
       "    </tr>\n",
       "    <tr>\n",
       "      <th>1</th>\n",
       "      <td>Property Damage Only Collision</td>\n",
       "      <td>2</td>\n",
       "      <td>0</td>\n",
       "      <td>0</td>\n",
       "      <td>2</td>\n",
       "      <td>Mid-Block (not related to intersection)</td>\n",
       "      <td>N</td>\n",
       "      <td>18</td>\n",
       "      <td>2</td>\n",
       "      <td>12</td>\n",
       "      <td>...</td>\n",
       "      <td>1</td>\n",
       "      <td>0</td>\n",
       "      <td>0</td>\n",
       "      <td>1</td>\n",
       "      <td>0</td>\n",
       "      <td>0</td>\n",
       "      <td>0</td>\n",
       "      <td>0</td>\n",
       "      <td>0</td>\n",
       "      <td>0</td>\n",
       "    </tr>\n",
       "    <tr>\n",
       "      <th>2</th>\n",
       "      <td>Property Damage Only Collision</td>\n",
       "      <td>4</td>\n",
       "      <td>0</td>\n",
       "      <td>0</td>\n",
       "      <td>3</td>\n",
       "      <td>Mid-Block (not related to intersection)</td>\n",
       "      <td>N</td>\n",
       "      <td>10</td>\n",
       "      <td>3</td>\n",
       "      <td>11</td>\n",
       "      <td>...</td>\n",
       "      <td>0</td>\n",
       "      <td>0</td>\n",
       "      <td>0</td>\n",
       "      <td>0</td>\n",
       "      <td>0</td>\n",
       "      <td>0</td>\n",
       "      <td>1</td>\n",
       "      <td>0</td>\n",
       "      <td>0</td>\n",
       "      <td>0</td>\n",
       "    </tr>\n",
       "    <tr>\n",
       "      <th>3</th>\n",
       "      <td>Property Damage Only Collision</td>\n",
       "      <td>3</td>\n",
       "      <td>0</td>\n",
       "      <td>0</td>\n",
       "      <td>3</td>\n",
       "      <td>Mid-Block (not related to intersection)</td>\n",
       "      <td>N</td>\n",
       "      <td>9</td>\n",
       "      <td>4</td>\n",
       "      <td>3</td>\n",
       "      <td>...</td>\n",
       "      <td>0</td>\n",
       "      <td>0</td>\n",
       "      <td>0</td>\n",
       "      <td>0</td>\n",
       "      <td>0</td>\n",
       "      <td>0</td>\n",
       "      <td>1</td>\n",
       "      <td>0</td>\n",
       "      <td>0</td>\n",
       "      <td>0</td>\n",
       "    </tr>\n",
       "    <tr>\n",
       "      <th>4</th>\n",
       "      <td>Injury Collision</td>\n",
       "      <td>2</td>\n",
       "      <td>0</td>\n",
       "      <td>0</td>\n",
       "      <td>2</td>\n",
       "      <td>At Intersection (intersection related)</td>\n",
       "      <td>N</td>\n",
       "      <td>8</td>\n",
       "      <td>2</td>\n",
       "      <td>1</td>\n",
       "      <td>...</td>\n",
       "      <td>1</td>\n",
       "      <td>0</td>\n",
       "      <td>0</td>\n",
       "      <td>0</td>\n",
       "      <td>0</td>\n",
       "      <td>0</td>\n",
       "      <td>1</td>\n",
       "      <td>0</td>\n",
       "      <td>0</td>\n",
       "      <td>0</td>\n",
       "    </tr>\n",
       "  </tbody>\n",
       "</table>\n",
       "<p>5 rows × 52 columns</p>\n",
       "</div>"
      ],
      "text/plain": [
       "                     SEVERITYDESC  PERSONCOUNT  PEDCOUNT  PEDCYLCOUNT  \\\n",
       "0                Injury Collision            2         0            0   \n",
       "1  Property Damage Only Collision            2         0            0   \n",
       "2  Property Damage Only Collision            4         0            0   \n",
       "3  Property Damage Only Collision            3         0            0   \n",
       "4                Injury Collision            2         0            0   \n",
       "\n",
       "   VEHCOUNT                             JUNCTIONTYPE HITPARKEDCAR  Hour  \\\n",
       "0         2   At Intersection (intersection related)            N    14   \n",
       "1         2  Mid-Block (not related to intersection)            N    18   \n",
       "2         3  Mid-Block (not related to intersection)            N    10   \n",
       "3         3  Mid-Block (not related to intersection)            N     9   \n",
       "4         2   At Intersection (intersection related)            N     8   \n",
       "\n",
       "   Dayofweek  Month  ...  Wet  Dark - No Street Lights  \\\n",
       "0          2      3  ...    1                        0   \n",
       "1          2     12  ...    1                        0   \n",
       "2          3     11  ...    0                        0   \n",
       "3          4      3  ...    0                        0   \n",
       "4          2      1  ...    1                        0   \n",
       "\n",
       "   Dark - Street Lights Off  Dark - Street Lights On  Dark - Unknown Lighting  \\\n",
       "0                         0                        0                        0   \n",
       "1                         0                        1                        0   \n",
       "2                         0                        0                        0   \n",
       "3                         0                        0                        0   \n",
       "4                         0                        0                        0   \n",
       "\n",
       "   Dawn  Daylight  Dusk  Other  Unknown  \n",
       "0     0         1     0      0        0  \n",
       "1     0         0     0      0        0  \n",
       "2     0         1     0      0        0  \n",
       "3     0         1     0      0        0  \n",
       "4     0         1     0      0        0  \n",
       "\n",
       "[5 rows x 52 columns]"
      ]
     },
     "execution_count": 146,
     "metadata": {},
     "output_type": "execute_result"
    }
   ],
   "source": [
    "df4 = pd.concat([df4,pd.get_dummies(df['LIGHTCOND'])], axis=1)\n",
    "df4 = df4.drop(['LIGHTCOND'], axis = 1)\n",
    "df4.head()"
   ]
  },
  {
   "cell_type": "markdown",
   "metadata": {},
   "source": [
    "<h4> 3.2.6 JUNCTIONTYPE"
   ]
  },
  {
   "cell_type": "code",
   "execution_count": 147,
   "metadata": {},
   "outputs": [
    {
     "data": {
      "text/plain": [
       "JUNCTIONTYPE                                       SEVERITYDESC                  \n",
       "At Intersection (but not related to intersection)  Property Damage Only Collision     1475\n",
       "                                                   Injury Collision                    623\n",
       "At Intersection (intersection related)             Property Damage Only Collision    35636\n",
       "                                                   Injury Collision                  27174\n",
       "Driveway Junction                                  Property Damage Only Collision     7437\n",
       "                                                   Injury Collision                   3234\n",
       "Mid-Block (but intersection related)               Property Damage Only Collision    15493\n",
       "                                                   Injury Collision                   7297\n",
       "Mid-Block (not related to intersection)            Property Damage Only Collision    70396\n",
       "                                                   Injury Collision                  19404\n",
       "Ramp Junction                                      Property Damage Only Collision      112\n",
       "                                                   Injury Collision                     54\n",
       "Unknown                                            Property Damage Only Collision        7\n",
       "                                                   Injury Collision                      2\n",
       "Name: SEVERITYDESC, dtype: int64"
      ]
     },
     "execution_count": 147,
     "metadata": {},
     "output_type": "execute_result"
    }
   ],
   "source": [
    "df4.groupby(['JUNCTIONTYPE'])['SEVERITYDESC'].value_counts(normalize=False)"
   ]
  },
  {
   "cell_type": "code",
   "execution_count": 148,
   "metadata": {},
   "outputs": [
    {
     "data": {
      "text/plain": [
       "JUNCTIONTYPE                                       SEVERITYDESC                  \n",
       "At Intersection (but not related to intersection)  Property Damage Only Collision    0.703051\n",
       "                                                   Injury Collision                  0.296949\n",
       "At Intersection (intersection related)             Property Damage Only Collision    0.567362\n",
       "                                                   Injury Collision                  0.432638\n",
       "Driveway Junction                                  Property Damage Only Collision    0.696936\n",
       "                                                   Injury Collision                  0.303064\n",
       "Mid-Block (but intersection related)               Property Damage Only Collision    0.679816\n",
       "                                                   Injury Collision                  0.320184\n",
       "Mid-Block (not related to intersection)            Property Damage Only Collision    0.783920\n",
       "                                                   Injury Collision                  0.216080\n",
       "Ramp Junction                                      Property Damage Only Collision    0.674699\n",
       "                                                   Injury Collision                  0.325301\n",
       "Unknown                                            Property Damage Only Collision    0.777778\n",
       "                                                   Injury Collision                  0.222222\n",
       "Name: SEVERITYDESC, dtype: float64"
      ]
     },
     "execution_count": 148,
     "metadata": {},
     "output_type": "execute_result"
    }
   ],
   "source": [
    "df4.groupby(['JUNCTIONTYPE'])['SEVERITYDESC'].value_counts(normalize=True)"
   ]
  },
  {
   "cell_type": "code",
   "execution_count": 149,
   "metadata": {},
   "outputs": [
    {
     "data": {
      "text/html": [
       "<div>\n",
       "<style scoped>\n",
       "    .dataframe tbody tr th:only-of-type {\n",
       "        vertical-align: middle;\n",
       "    }\n",
       "\n",
       "    .dataframe tbody tr th {\n",
       "        vertical-align: top;\n",
       "    }\n",
       "\n",
       "    .dataframe thead th {\n",
       "        text-align: right;\n",
       "    }\n",
       "</style>\n",
       "<table border=\"1\" class=\"dataframe\">\n",
       "  <thead>\n",
       "    <tr style=\"text-align: right;\">\n",
       "      <th></th>\n",
       "      <th>SEVERITYDESC</th>\n",
       "      <th>PERSONCOUNT</th>\n",
       "      <th>PEDCOUNT</th>\n",
       "      <th>PEDCYLCOUNT</th>\n",
       "      <th>VEHCOUNT</th>\n",
       "      <th>HITPARKEDCAR</th>\n",
       "      <th>Hour</th>\n",
       "      <th>Dayofweek</th>\n",
       "      <th>Month</th>\n",
       "      <th>Alley</th>\n",
       "      <th>...</th>\n",
       "      <th>Dusk</th>\n",
       "      <th>Other</th>\n",
       "      <th>Unknown</th>\n",
       "      <th>At Intersection (but not related to intersection)</th>\n",
       "      <th>At Intersection (intersection related)</th>\n",
       "      <th>Driveway Junction</th>\n",
       "      <th>Mid-Block (but intersection related)</th>\n",
       "      <th>Mid-Block (not related to intersection)</th>\n",
       "      <th>Ramp Junction</th>\n",
       "      <th>Unknown</th>\n",
       "    </tr>\n",
       "  </thead>\n",
       "  <tbody>\n",
       "    <tr>\n",
       "      <th>0</th>\n",
       "      <td>Injury Collision</td>\n",
       "      <td>2</td>\n",
       "      <td>0</td>\n",
       "      <td>0</td>\n",
       "      <td>2</td>\n",
       "      <td>N</td>\n",
       "      <td>14</td>\n",
       "      <td>2</td>\n",
       "      <td>3</td>\n",
       "      <td>0</td>\n",
       "      <td>...</td>\n",
       "      <td>0</td>\n",
       "      <td>0</td>\n",
       "      <td>0</td>\n",
       "      <td>0</td>\n",
       "      <td>1</td>\n",
       "      <td>0</td>\n",
       "      <td>0</td>\n",
       "      <td>0</td>\n",
       "      <td>0</td>\n",
       "      <td>0</td>\n",
       "    </tr>\n",
       "    <tr>\n",
       "      <th>1</th>\n",
       "      <td>Property Damage Only Collision</td>\n",
       "      <td>2</td>\n",
       "      <td>0</td>\n",
       "      <td>0</td>\n",
       "      <td>2</td>\n",
       "      <td>N</td>\n",
       "      <td>18</td>\n",
       "      <td>2</td>\n",
       "      <td>12</td>\n",
       "      <td>0</td>\n",
       "      <td>...</td>\n",
       "      <td>0</td>\n",
       "      <td>0</td>\n",
       "      <td>0</td>\n",
       "      <td>0</td>\n",
       "      <td>0</td>\n",
       "      <td>0</td>\n",
       "      <td>0</td>\n",
       "      <td>1</td>\n",
       "      <td>0</td>\n",
       "      <td>0</td>\n",
       "    </tr>\n",
       "    <tr>\n",
       "      <th>2</th>\n",
       "      <td>Property Damage Only Collision</td>\n",
       "      <td>4</td>\n",
       "      <td>0</td>\n",
       "      <td>0</td>\n",
       "      <td>3</td>\n",
       "      <td>N</td>\n",
       "      <td>10</td>\n",
       "      <td>3</td>\n",
       "      <td>11</td>\n",
       "      <td>0</td>\n",
       "      <td>...</td>\n",
       "      <td>0</td>\n",
       "      <td>0</td>\n",
       "      <td>0</td>\n",
       "      <td>0</td>\n",
       "      <td>0</td>\n",
       "      <td>0</td>\n",
       "      <td>0</td>\n",
       "      <td>1</td>\n",
       "      <td>0</td>\n",
       "      <td>0</td>\n",
       "    </tr>\n",
       "    <tr>\n",
       "      <th>3</th>\n",
       "      <td>Property Damage Only Collision</td>\n",
       "      <td>3</td>\n",
       "      <td>0</td>\n",
       "      <td>0</td>\n",
       "      <td>3</td>\n",
       "      <td>N</td>\n",
       "      <td>9</td>\n",
       "      <td>4</td>\n",
       "      <td>3</td>\n",
       "      <td>0</td>\n",
       "      <td>...</td>\n",
       "      <td>0</td>\n",
       "      <td>0</td>\n",
       "      <td>0</td>\n",
       "      <td>0</td>\n",
       "      <td>0</td>\n",
       "      <td>0</td>\n",
       "      <td>0</td>\n",
       "      <td>1</td>\n",
       "      <td>0</td>\n",
       "      <td>0</td>\n",
       "    </tr>\n",
       "    <tr>\n",
       "      <th>4</th>\n",
       "      <td>Injury Collision</td>\n",
       "      <td>2</td>\n",
       "      <td>0</td>\n",
       "      <td>0</td>\n",
       "      <td>2</td>\n",
       "      <td>N</td>\n",
       "      <td>8</td>\n",
       "      <td>2</td>\n",
       "      <td>1</td>\n",
       "      <td>0</td>\n",
       "      <td>...</td>\n",
       "      <td>0</td>\n",
       "      <td>0</td>\n",
       "      <td>0</td>\n",
       "      <td>0</td>\n",
       "      <td>1</td>\n",
       "      <td>0</td>\n",
       "      <td>0</td>\n",
       "      <td>0</td>\n",
       "      <td>0</td>\n",
       "      <td>0</td>\n",
       "    </tr>\n",
       "  </tbody>\n",
       "</table>\n",
       "<p>5 rows × 58 columns</p>\n",
       "</div>"
      ],
      "text/plain": [
       "                     SEVERITYDESC  PERSONCOUNT  PEDCOUNT  PEDCYLCOUNT  \\\n",
       "0                Injury Collision            2         0            0   \n",
       "1  Property Damage Only Collision            2         0            0   \n",
       "2  Property Damage Only Collision            4         0            0   \n",
       "3  Property Damage Only Collision            3         0            0   \n",
       "4                Injury Collision            2         0            0   \n",
       "\n",
       "   VEHCOUNT HITPARKEDCAR  Hour  Dayofweek  Month  Alley  ...  Dusk  Other  \\\n",
       "0         2            N    14          2      3      0  ...     0      0   \n",
       "1         2            N    18          2     12      0  ...     0      0   \n",
       "2         3            N    10          3     11      0  ...     0      0   \n",
       "3         3            N     9          4      3      0  ...     0      0   \n",
       "4         2            N     8          2      1      0  ...     0      0   \n",
       "\n",
       "   Unknown  At Intersection (but not related to intersection)  \\\n",
       "0        0                                                  0   \n",
       "1        0                                                  0   \n",
       "2        0                                                  0   \n",
       "3        0                                                  0   \n",
       "4        0                                                  0   \n",
       "\n",
       "   At Intersection (intersection related)  Driveway Junction  \\\n",
       "0                                       1                  0   \n",
       "1                                       0                  0   \n",
       "2                                       0                  0   \n",
       "3                                       0                  0   \n",
       "4                                       1                  0   \n",
       "\n",
       "   Mid-Block (but intersection related)  \\\n",
       "0                                     0   \n",
       "1                                     0   \n",
       "2                                     0   \n",
       "3                                     0   \n",
       "4                                     0   \n",
       "\n",
       "   Mid-Block (not related to intersection)  Ramp Junction  Unknown  \n",
       "0                                        0              0        0  \n",
       "1                                        1              0        0  \n",
       "2                                        1              0        0  \n",
       "3                                        1              0        0  \n",
       "4                                        0              0        0  \n",
       "\n",
       "[5 rows x 58 columns]"
      ]
     },
     "execution_count": 149,
     "metadata": {},
     "output_type": "execute_result"
    }
   ],
   "source": [
    "df4 = pd.concat([df4,pd.get_dummies(df['JUNCTIONTYPE'])], axis=1)\n",
    "df4 = df4.drop(['JUNCTIONTYPE'], axis = 1)\n",
    "df4.head()"
   ]
  },
  {
   "cell_type": "markdown",
   "metadata": {},
   "source": [
    "<h4>3.2.7 HITPARKEDCAR"
   ]
  },
  {
   "cell_type": "markdown",
   "metadata": {},
   "source": [
    "Finally, we convert our last non-numeric field, HITPARKEDCAR:"
   ]
  },
  {
   "cell_type": "code",
   "execution_count": 150,
   "metadata": {},
   "outputs": [
    {
     "data": {
      "text/plain": [
       "HITPARKEDCAR  SEVERITYDESC                  \n",
       "N             Property Damage Only Collision    129717\n",
       "              Injury Collision                   57740\n",
       "Y             Property Damage Only Collision      6768\n",
       "              Injury Collision                     448\n",
       "Name: SEVERITYDESC, dtype: int64"
      ]
     },
     "execution_count": 150,
     "metadata": {},
     "output_type": "execute_result"
    }
   ],
   "source": [
    "df4.groupby(['HITPARKEDCAR'])['SEVERITYDESC'].value_counts(normalize=False)"
   ]
  },
  {
   "cell_type": "markdown",
   "metadata": {},
   "source": [
    "We will replace N with 0 and Y with 1."
   ]
  },
  {
   "cell_type": "code",
   "execution_count": 151,
   "metadata": {},
   "outputs": [],
   "source": [
    "replace_map = {'HITPARKEDCAR': {'N': 0, 'Y': 1}}\n",
    "\n",
    "df4.replace(replace_map, inplace=True)\n"
   ]
  },
  {
   "cell_type": "code",
   "execution_count": 152,
   "metadata": {},
   "outputs": [
    {
     "data": {
      "text/html": [
       "<div>\n",
       "<style scoped>\n",
       "    .dataframe tbody tr th:only-of-type {\n",
       "        vertical-align: middle;\n",
       "    }\n",
       "\n",
       "    .dataframe tbody tr th {\n",
       "        vertical-align: top;\n",
       "    }\n",
       "\n",
       "    .dataframe thead th {\n",
       "        text-align: right;\n",
       "    }\n",
       "</style>\n",
       "<table border=\"1\" class=\"dataframe\">\n",
       "  <thead>\n",
       "    <tr style=\"text-align: right;\">\n",
       "      <th></th>\n",
       "      <th>SEVERITYDESC</th>\n",
       "      <th>PERSONCOUNT</th>\n",
       "      <th>PEDCOUNT</th>\n",
       "      <th>PEDCYLCOUNT</th>\n",
       "      <th>VEHCOUNT</th>\n",
       "      <th>HITPARKEDCAR</th>\n",
       "      <th>Hour</th>\n",
       "      <th>Dayofweek</th>\n",
       "      <th>Month</th>\n",
       "      <th>Alley</th>\n",
       "      <th>...</th>\n",
       "      <th>Dusk</th>\n",
       "      <th>Other</th>\n",
       "      <th>Unknown</th>\n",
       "      <th>At Intersection (but not related to intersection)</th>\n",
       "      <th>At Intersection (intersection related)</th>\n",
       "      <th>Driveway Junction</th>\n",
       "      <th>Mid-Block (but intersection related)</th>\n",
       "      <th>Mid-Block (not related to intersection)</th>\n",
       "      <th>Ramp Junction</th>\n",
       "      <th>Unknown</th>\n",
       "    </tr>\n",
       "  </thead>\n",
       "  <tbody>\n",
       "    <tr>\n",
       "      <th>0</th>\n",
       "      <td>Injury Collision</td>\n",
       "      <td>2</td>\n",
       "      <td>0</td>\n",
       "      <td>0</td>\n",
       "      <td>2</td>\n",
       "      <td>0</td>\n",
       "      <td>14</td>\n",
       "      <td>2</td>\n",
       "      <td>3</td>\n",
       "      <td>0</td>\n",
       "      <td>...</td>\n",
       "      <td>0</td>\n",
       "      <td>0</td>\n",
       "      <td>0</td>\n",
       "      <td>0</td>\n",
       "      <td>1</td>\n",
       "      <td>0</td>\n",
       "      <td>0</td>\n",
       "      <td>0</td>\n",
       "      <td>0</td>\n",
       "      <td>0</td>\n",
       "    </tr>\n",
       "    <tr>\n",
       "      <th>1</th>\n",
       "      <td>Property Damage Only Collision</td>\n",
       "      <td>2</td>\n",
       "      <td>0</td>\n",
       "      <td>0</td>\n",
       "      <td>2</td>\n",
       "      <td>0</td>\n",
       "      <td>18</td>\n",
       "      <td>2</td>\n",
       "      <td>12</td>\n",
       "      <td>0</td>\n",
       "      <td>...</td>\n",
       "      <td>0</td>\n",
       "      <td>0</td>\n",
       "      <td>0</td>\n",
       "      <td>0</td>\n",
       "      <td>0</td>\n",
       "      <td>0</td>\n",
       "      <td>0</td>\n",
       "      <td>1</td>\n",
       "      <td>0</td>\n",
       "      <td>0</td>\n",
       "    </tr>\n",
       "    <tr>\n",
       "      <th>2</th>\n",
       "      <td>Property Damage Only Collision</td>\n",
       "      <td>4</td>\n",
       "      <td>0</td>\n",
       "      <td>0</td>\n",
       "      <td>3</td>\n",
       "      <td>0</td>\n",
       "      <td>10</td>\n",
       "      <td>3</td>\n",
       "      <td>11</td>\n",
       "      <td>0</td>\n",
       "      <td>...</td>\n",
       "      <td>0</td>\n",
       "      <td>0</td>\n",
       "      <td>0</td>\n",
       "      <td>0</td>\n",
       "      <td>0</td>\n",
       "      <td>0</td>\n",
       "      <td>0</td>\n",
       "      <td>1</td>\n",
       "      <td>0</td>\n",
       "      <td>0</td>\n",
       "    </tr>\n",
       "    <tr>\n",
       "      <th>3</th>\n",
       "      <td>Property Damage Only Collision</td>\n",
       "      <td>3</td>\n",
       "      <td>0</td>\n",
       "      <td>0</td>\n",
       "      <td>3</td>\n",
       "      <td>0</td>\n",
       "      <td>9</td>\n",
       "      <td>4</td>\n",
       "      <td>3</td>\n",
       "      <td>0</td>\n",
       "      <td>...</td>\n",
       "      <td>0</td>\n",
       "      <td>0</td>\n",
       "      <td>0</td>\n",
       "      <td>0</td>\n",
       "      <td>0</td>\n",
       "      <td>0</td>\n",
       "      <td>0</td>\n",
       "      <td>1</td>\n",
       "      <td>0</td>\n",
       "      <td>0</td>\n",
       "    </tr>\n",
       "    <tr>\n",
       "      <th>4</th>\n",
       "      <td>Injury Collision</td>\n",
       "      <td>2</td>\n",
       "      <td>0</td>\n",
       "      <td>0</td>\n",
       "      <td>2</td>\n",
       "      <td>0</td>\n",
       "      <td>8</td>\n",
       "      <td>2</td>\n",
       "      <td>1</td>\n",
       "      <td>0</td>\n",
       "      <td>...</td>\n",
       "      <td>0</td>\n",
       "      <td>0</td>\n",
       "      <td>0</td>\n",
       "      <td>0</td>\n",
       "      <td>1</td>\n",
       "      <td>0</td>\n",
       "      <td>0</td>\n",
       "      <td>0</td>\n",
       "      <td>0</td>\n",
       "      <td>0</td>\n",
       "    </tr>\n",
       "  </tbody>\n",
       "</table>\n",
       "<p>5 rows × 58 columns</p>\n",
       "</div>"
      ],
      "text/plain": [
       "                     SEVERITYDESC  PERSONCOUNT  PEDCOUNT  PEDCYLCOUNT  \\\n",
       "0                Injury Collision            2         0            0   \n",
       "1  Property Damage Only Collision            2         0            0   \n",
       "2  Property Damage Only Collision            4         0            0   \n",
       "3  Property Damage Only Collision            3         0            0   \n",
       "4                Injury Collision            2         0            0   \n",
       "\n",
       "   VEHCOUNT  HITPARKEDCAR  Hour  Dayofweek  Month  Alley  ...  Dusk  Other  \\\n",
       "0         2             0    14          2      3      0  ...     0      0   \n",
       "1         2             0    18          2     12      0  ...     0      0   \n",
       "2         3             0    10          3     11      0  ...     0      0   \n",
       "3         3             0     9          4      3      0  ...     0      0   \n",
       "4         2             0     8          2      1      0  ...     0      0   \n",
       "\n",
       "   Unknown  At Intersection (but not related to intersection)  \\\n",
       "0        0                                                  0   \n",
       "1        0                                                  0   \n",
       "2        0                                                  0   \n",
       "3        0                                                  0   \n",
       "4        0                                                  0   \n",
       "\n",
       "   At Intersection (intersection related)  Driveway Junction  \\\n",
       "0                                       1                  0   \n",
       "1                                       0                  0   \n",
       "2                                       0                  0   \n",
       "3                                       0                  0   \n",
       "4                                       1                  0   \n",
       "\n",
       "   Mid-Block (but intersection related)  \\\n",
       "0                                     0   \n",
       "1                                     0   \n",
       "2                                     0   \n",
       "3                                     0   \n",
       "4                                     0   \n",
       "\n",
       "   Mid-Block (not related to intersection)  Ramp Junction  Unknown  \n",
       "0                                        0              0        0  \n",
       "1                                        1              0        0  \n",
       "2                                        1              0        0  \n",
       "3                                        1              0        0  \n",
       "4                                        0              0        0  \n",
       "\n",
       "[5 rows x 58 columns]"
      ]
     },
     "execution_count": 152,
     "metadata": {},
     "output_type": "execute_result"
    }
   ],
   "source": [
    "df4.head()"
   ]
  },
  {
   "cell_type": "markdown",
   "metadata": {},
   "source": [
    "<h3>3.3 Reducing features\n",
    "    \n",
    "Our data still has a huge number of features. Let's look for correlation betwen them to see if we can reduce the number."
   ]
  },
  {
   "cell_type": "code",
   "execution_count": 153,
   "metadata": {},
   "outputs": [],
   "source": [
    "import matplotlib.pyplot as plt"
   ]
  },
  {
   "cell_type": "code",
   "execution_count": 154,
   "metadata": {},
   "outputs": [
    {
     "data": {
      "image/png": "[encoded data removed]",
      "text/plain": [
       "<Figure size 1368x1080 with 2 Axes>"
      ]
     },
     "metadata": {
      "needs_background": "light"
     },
     "output_type": "display_data"
    }
   ],
   "source": [
    "f = plt.figure(figsize=(19, 15))\n",
    "plt.matshow(df4.corr(), fignum=f.number)\n",
    "plt.xticks(range(df4.shape[1]), df4.columns, fontsize=14, rotation=90)\n",
    "plt.yticks(range(df4.shape[1]), df4.columns, fontsize=14)\n",
    "cb = plt.colorbar()\n",
    "cb.ax.tick_params(labelsize=14)\n",
    "plt.title('Correlation Matrix', fontsize=16);"
   ]
  },
  {
   "cell_type": "markdown",
   "metadata": {},
   "source": [
    "The following are all highly correlated:\n",
    "\n",
    "Angles,PEDCOUNT\n",
    "\n",
    "Parked car, PERSONCOUNT\n",
    "\n",
    "Block, Alley\n",
    "\n",
    "At intersection (but not related to intersection), Alley\n",
    "\n",
    "At intersection (but not related to intersection), Block\n",
    "\n",
    "Mid-Block (but intersection related), At intersection (but not related to intersection)\n",
    "\n",
    "Unknwon (weather), Unknown (road conditions)\n",
    "\n",
    "Blowing sand /dirt, Unknown (weather)\n",
    "\n",
    "Blowing sand /dirt, Unknown (road conditions)\n",
    "\n",
    "Unknwon (weather), Partially cloudy\n",
    "\n",
    "Unknwon (road conditions), Partially cloudy\n",
    "\n",
    "Snowing, Standing water\n",
    "\n",
    "Sleet/hail/freezing rain, Sand/mud/dirt\n",
    "\n",
    "Other (time of day), Standing water\n",
    "\n",
    "Dawn, dark (street lights off)\n"
   ]
  },
  {
   "cell_type": "markdown",
   "metadata": {},
   "source": [
    "We will therefore attempt to eliminate as many of these factors as possible.\n",
    "\n",
    "We will eliminate\n",
    "\n",
    "Alley\n",
    "\n",
    "Angles\n",
    "\n",
    "Parked car\n",
    "\n",
    "Mid-Block (but intersection related)\n",
    "\n",
    "Unknwon (weather)\n",
    "\n",
    "Unknown (road conditions)\n",
    "\n",
    "Sand/mud/dirt\n",
    "\n",
    "Standing water\n",
    "\n",
    "dark (street lights off)"
   ]
  },
  {
   "cell_type": "code",
   "execution_count": 155,
   "metadata": {},
   "outputs": [],
   "source": [
    "df5 = df4.drop(['Alley', 'Angles', 'Parked Car', 'Mid-Block (but intersection related)', 'Sand/Mud/Dirt', 'Standing Water', 'Dark - Street Lights Off', 'Unknown'], axis = 1)"
   ]
  },
  {
   "cell_type": "code",
   "execution_count": 156,
   "metadata": {},
   "outputs": [
    {
     "data": {
      "text/html": [
       "<div>\n",
       "<style scoped>\n",
       "    .dataframe tbody tr th:only-of-type {\n",
       "        vertical-align: middle;\n",
       "    }\n",
       "\n",
       "    .dataframe tbody tr th {\n",
       "        vertical-align: top;\n",
       "    }\n",
       "\n",
       "    .dataframe thead th {\n",
       "        text-align: right;\n",
       "    }\n",
       "</style>\n",
       "<table border=\"1\" class=\"dataframe\">\n",
       "  <thead>\n",
       "    <tr style=\"text-align: right;\">\n",
       "      <th></th>\n",
       "      <th>SEVERITYDESC</th>\n",
       "      <th>PERSONCOUNT</th>\n",
       "      <th>PEDCOUNT</th>\n",
       "      <th>PEDCYLCOUNT</th>\n",
       "      <th>VEHCOUNT</th>\n",
       "      <th>HITPARKEDCAR</th>\n",
       "      <th>Hour</th>\n",
       "      <th>Dayofweek</th>\n",
       "      <th>Month</th>\n",
       "      <th>Block</th>\n",
       "      <th>...</th>\n",
       "      <th>Dark - Unknown Lighting</th>\n",
       "      <th>Dawn</th>\n",
       "      <th>Daylight</th>\n",
       "      <th>Dusk</th>\n",
       "      <th>Other</th>\n",
       "      <th>At Intersection (but not related to intersection)</th>\n",
       "      <th>At Intersection (intersection related)</th>\n",
       "      <th>Driveway Junction</th>\n",
       "      <th>Mid-Block (not related to intersection)</th>\n",
       "      <th>Ramp Junction</th>\n",
       "    </tr>\n",
       "  </thead>\n",
       "  <tbody>\n",
       "    <tr>\n",
       "      <th>0</th>\n",
       "      <td>Injury Collision</td>\n",
       "      <td>2</td>\n",
       "      <td>0</td>\n",
       "      <td>0</td>\n",
       "      <td>2</td>\n",
       "      <td>0</td>\n",
       "      <td>14</td>\n",
       "      <td>2</td>\n",
       "      <td>3</td>\n",
       "      <td>0</td>\n",
       "      <td>...</td>\n",
       "      <td>0</td>\n",
       "      <td>0</td>\n",
       "      <td>1</td>\n",
       "      <td>0</td>\n",
       "      <td>0</td>\n",
       "      <td>0</td>\n",
       "      <td>1</td>\n",
       "      <td>0</td>\n",
       "      <td>0</td>\n",
       "      <td>0</td>\n",
       "    </tr>\n",
       "    <tr>\n",
       "      <th>1</th>\n",
       "      <td>Property Damage Only Collision</td>\n",
       "      <td>2</td>\n",
       "      <td>0</td>\n",
       "      <td>0</td>\n",
       "      <td>2</td>\n",
       "      <td>0</td>\n",
       "      <td>18</td>\n",
       "      <td>2</td>\n",
       "      <td>12</td>\n",
       "      <td>1</td>\n",
       "      <td>...</td>\n",
       "      <td>0</td>\n",
       "      <td>0</td>\n",
       "      <td>0</td>\n",
       "      <td>0</td>\n",
       "      <td>0</td>\n",
       "      <td>0</td>\n",
       "      <td>0</td>\n",
       "      <td>0</td>\n",
       "      <td>1</td>\n",
       "      <td>0</td>\n",
       "    </tr>\n",
       "    <tr>\n",
       "      <th>2</th>\n",
       "      <td>Property Damage Only Collision</td>\n",
       "      <td>4</td>\n",
       "      <td>0</td>\n",
       "      <td>0</td>\n",
       "      <td>3</td>\n",
       "      <td>0</td>\n",
       "      <td>10</td>\n",
       "      <td>3</td>\n",
       "      <td>11</td>\n",
       "      <td>1</td>\n",
       "      <td>...</td>\n",
       "      <td>0</td>\n",
       "      <td>0</td>\n",
       "      <td>1</td>\n",
       "      <td>0</td>\n",
       "      <td>0</td>\n",
       "      <td>0</td>\n",
       "      <td>0</td>\n",
       "      <td>0</td>\n",
       "      <td>1</td>\n",
       "      <td>0</td>\n",
       "    </tr>\n",
       "    <tr>\n",
       "      <th>3</th>\n",
       "      <td>Property Damage Only Collision</td>\n",
       "      <td>3</td>\n",
       "      <td>0</td>\n",
       "      <td>0</td>\n",
       "      <td>3</td>\n",
       "      <td>0</td>\n",
       "      <td>9</td>\n",
       "      <td>4</td>\n",
       "      <td>3</td>\n",
       "      <td>1</td>\n",
       "      <td>...</td>\n",
       "      <td>0</td>\n",
       "      <td>0</td>\n",
       "      <td>1</td>\n",
       "      <td>0</td>\n",
       "      <td>0</td>\n",
       "      <td>0</td>\n",
       "      <td>0</td>\n",
       "      <td>0</td>\n",
       "      <td>1</td>\n",
       "      <td>0</td>\n",
       "    </tr>\n",
       "    <tr>\n",
       "      <th>4</th>\n",
       "      <td>Injury Collision</td>\n",
       "      <td>2</td>\n",
       "      <td>0</td>\n",
       "      <td>0</td>\n",
       "      <td>2</td>\n",
       "      <td>0</td>\n",
       "      <td>8</td>\n",
       "      <td>2</td>\n",
       "      <td>1</td>\n",
       "      <td>0</td>\n",
       "      <td>...</td>\n",
       "      <td>0</td>\n",
       "      <td>0</td>\n",
       "      <td>1</td>\n",
       "      <td>0</td>\n",
       "      <td>0</td>\n",
       "      <td>0</td>\n",
       "      <td>1</td>\n",
       "      <td>0</td>\n",
       "      <td>0</td>\n",
       "      <td>0</td>\n",
       "    </tr>\n",
       "  </tbody>\n",
       "</table>\n",
       "<p>5 rows × 47 columns</p>\n",
       "</div>"
      ],
      "text/plain": [
       "                     SEVERITYDESC  PERSONCOUNT  PEDCOUNT  PEDCYLCOUNT  \\\n",
       "0                Injury Collision            2         0            0   \n",
       "1  Property Damage Only Collision            2         0            0   \n",
       "2  Property Damage Only Collision            4         0            0   \n",
       "3  Property Damage Only Collision            3         0            0   \n",
       "4                Injury Collision            2         0            0   \n",
       "\n",
       "   VEHCOUNT  HITPARKEDCAR  Hour  Dayofweek  Month  Block  ...  \\\n",
       "0         2             0    14          2      3      0  ...   \n",
       "1         2             0    18          2     12      1  ...   \n",
       "2         3             0    10          3     11      1  ...   \n",
       "3         3             0     9          4      3      1  ...   \n",
       "4         2             0     8          2      1      0  ...   \n",
       "\n",
       "   Dark - Unknown Lighting  Dawn  Daylight  Dusk  Other  \\\n",
       "0                        0     0         1     0      0   \n",
       "1                        0     0         0     0      0   \n",
       "2                        0     0         1     0      0   \n",
       "3                        0     0         1     0      0   \n",
       "4                        0     0         1     0      0   \n",
       "\n",
       "   At Intersection (but not related to intersection)  \\\n",
       "0                                                  0   \n",
       "1                                                  0   \n",
       "2                                                  0   \n",
       "3                                                  0   \n",
       "4                                                  0   \n",
       "\n",
       "   At Intersection (intersection related)  Driveway Junction  \\\n",
       "0                                       1                  0   \n",
       "1                                       0                  0   \n",
       "2                                       0                  0   \n",
       "3                                       0                  0   \n",
       "4                                       1                  0   \n",
       "\n",
       "   Mid-Block (not related to intersection)  Ramp Junction  \n",
       "0                                        0              0  \n",
       "1                                        1              0  \n",
       "2                                        1              0  \n",
       "3                                        1              0  \n",
       "4                                        0              0  \n",
       "\n",
       "[5 rows x 47 columns]"
      ]
     },
     "execution_count": 156,
     "metadata": {},
     "output_type": "execute_result"
    }
   ],
   "source": [
    "df5.head()"
   ]
  },
  {
   "cell_type": "markdown",
   "metadata": {},
   "source": [
    "<H3> 3.4 Feature selection"
   ]
  },
  {
   "cell_type": "markdown",
   "metadata": {},
   "source": [
    "We how have our data all coverted to numerical values. It consists of 58 column. Next let define our feature set and call it X, which consists of all our data, excluding the SEVERITYCODE colum."
   ]
  },
  {
   "cell_type": "code",
   "execution_count": 157,
   "metadata": {},
   "outputs": [],
   "source": [
    "X = df5.drop(['SEVERITYDESC'], axis = 1)"
   ]
  },
  {
   "cell_type": "code",
   "execution_count": 158,
   "metadata": {},
   "outputs": [
    {
     "data": {
      "text/html": [
       "<div>\n",
       "<style scoped>\n",
       "    .dataframe tbody tr th:only-of-type {\n",
       "        vertical-align: middle;\n",
       "    }\n",
       "\n",
       "    .dataframe tbody tr th {\n",
       "        vertical-align: top;\n",
       "    }\n",
       "\n",
       "    .dataframe thead th {\n",
       "        text-align: right;\n",
       "    }\n",
       "</style>\n",
       "<table border=\"1\" class=\"dataframe\">\n",
       "  <thead>\n",
       "    <tr style=\"text-align: right;\">\n",
       "      <th></th>\n",
       "      <th>PERSONCOUNT</th>\n",
       "      <th>PEDCOUNT</th>\n",
       "      <th>PEDCYLCOUNT</th>\n",
       "      <th>VEHCOUNT</th>\n",
       "      <th>HITPARKEDCAR</th>\n",
       "      <th>Hour</th>\n",
       "      <th>Dayofweek</th>\n",
       "      <th>Month</th>\n",
       "      <th>Block</th>\n",
       "      <th>Intersection</th>\n",
       "      <th>...</th>\n",
       "      <th>Dark - Unknown Lighting</th>\n",
       "      <th>Dawn</th>\n",
       "      <th>Daylight</th>\n",
       "      <th>Dusk</th>\n",
       "      <th>Other</th>\n",
       "      <th>At Intersection (but not related to intersection)</th>\n",
       "      <th>At Intersection (intersection related)</th>\n",
       "      <th>Driveway Junction</th>\n",
       "      <th>Mid-Block (not related to intersection)</th>\n",
       "      <th>Ramp Junction</th>\n",
       "    </tr>\n",
       "  </thead>\n",
       "  <tbody>\n",
       "    <tr>\n",
       "      <th>0</th>\n",
       "      <td>2</td>\n",
       "      <td>0</td>\n",
       "      <td>0</td>\n",
       "      <td>2</td>\n",
       "      <td>0</td>\n",
       "      <td>14</td>\n",
       "      <td>2</td>\n",
       "      <td>3</td>\n",
       "      <td>0</td>\n",
       "      <td>1</td>\n",
       "      <td>...</td>\n",
       "      <td>0</td>\n",
       "      <td>0</td>\n",
       "      <td>1</td>\n",
       "      <td>0</td>\n",
       "      <td>0</td>\n",
       "      <td>0</td>\n",
       "      <td>1</td>\n",
       "      <td>0</td>\n",
       "      <td>0</td>\n",
       "      <td>0</td>\n",
       "    </tr>\n",
       "    <tr>\n",
       "      <th>1</th>\n",
       "      <td>2</td>\n",
       "      <td>0</td>\n",
       "      <td>0</td>\n",
       "      <td>2</td>\n",
       "      <td>0</td>\n",
       "      <td>18</td>\n",
       "      <td>2</td>\n",
       "      <td>12</td>\n",
       "      <td>1</td>\n",
       "      <td>0</td>\n",
       "      <td>...</td>\n",
       "      <td>0</td>\n",
       "      <td>0</td>\n",
       "      <td>0</td>\n",
       "      <td>0</td>\n",
       "      <td>0</td>\n",
       "      <td>0</td>\n",
       "      <td>0</td>\n",
       "      <td>0</td>\n",
       "      <td>1</td>\n",
       "      <td>0</td>\n",
       "    </tr>\n",
       "    <tr>\n",
       "      <th>2</th>\n",
       "      <td>4</td>\n",
       "      <td>0</td>\n",
       "      <td>0</td>\n",
       "      <td>3</td>\n",
       "      <td>0</td>\n",
       "      <td>10</td>\n",
       "      <td>3</td>\n",
       "      <td>11</td>\n",
       "      <td>1</td>\n",
       "      <td>0</td>\n",
       "      <td>...</td>\n",
       "      <td>0</td>\n",
       "      <td>0</td>\n",
       "      <td>1</td>\n",
       "      <td>0</td>\n",
       "      <td>0</td>\n",
       "      <td>0</td>\n",
       "      <td>0</td>\n",
       "      <td>0</td>\n",
       "      <td>1</td>\n",
       "      <td>0</td>\n",
       "    </tr>\n",
       "    <tr>\n",
       "      <th>3</th>\n",
       "      <td>3</td>\n",
       "      <td>0</td>\n",
       "      <td>0</td>\n",
       "      <td>3</td>\n",
       "      <td>0</td>\n",
       "      <td>9</td>\n",
       "      <td>4</td>\n",
       "      <td>3</td>\n",
       "      <td>1</td>\n",
       "      <td>0</td>\n",
       "      <td>...</td>\n",
       "      <td>0</td>\n",
       "      <td>0</td>\n",
       "      <td>1</td>\n",
       "      <td>0</td>\n",
       "      <td>0</td>\n",
       "      <td>0</td>\n",
       "      <td>0</td>\n",
       "      <td>0</td>\n",
       "      <td>1</td>\n",
       "      <td>0</td>\n",
       "    </tr>\n",
       "    <tr>\n",
       "      <th>4</th>\n",
       "      <td>2</td>\n",
       "      <td>0</td>\n",
       "      <td>0</td>\n",
       "      <td>2</td>\n",
       "      <td>0</td>\n",
       "      <td>8</td>\n",
       "      <td>2</td>\n",
       "      <td>1</td>\n",
       "      <td>0</td>\n",
       "      <td>1</td>\n",
       "      <td>...</td>\n",
       "      <td>0</td>\n",
       "      <td>0</td>\n",
       "      <td>1</td>\n",
       "      <td>0</td>\n",
       "      <td>0</td>\n",
       "      <td>0</td>\n",
       "      <td>1</td>\n",
       "      <td>0</td>\n",
       "      <td>0</td>\n",
       "      <td>0</td>\n",
       "    </tr>\n",
       "  </tbody>\n",
       "</table>\n",
       "<p>5 rows × 46 columns</p>\n",
       "</div>"
      ],
      "text/plain": [
       "   PERSONCOUNT  PEDCOUNT  PEDCYLCOUNT  VEHCOUNT  HITPARKEDCAR  Hour  \\\n",
       "0            2         0            0         2             0    14   \n",
       "1            2         0            0         2             0    18   \n",
       "2            4         0            0         3             0    10   \n",
       "3            3         0            0         3             0     9   \n",
       "4            2         0            0         2             0     8   \n",
       "\n",
       "   Dayofweek  Month  Block  Intersection  ...  Dark - Unknown Lighting  Dawn  \\\n",
       "0          2      3      0             1  ...                        0     0   \n",
       "1          2     12      1             0  ...                        0     0   \n",
       "2          3     11      1             0  ...                        0     0   \n",
       "3          4      3      1             0  ...                        0     0   \n",
       "4          2      1      0             1  ...                        0     0   \n",
       "\n",
       "   Daylight  Dusk  Other  At Intersection (but not related to intersection)  \\\n",
       "0         1     0      0                                                  0   \n",
       "1         0     0      0                                                  0   \n",
       "2         1     0      0                                                  0   \n",
       "3         1     0      0                                                  0   \n",
       "4         1     0      0                                                  0   \n",
       "\n",
       "   At Intersection (intersection related)  Driveway Junction  \\\n",
       "0                                       1                  0   \n",
       "1                                       0                  0   \n",
       "2                                       0                  0   \n",
       "3                                       0                  0   \n",
       "4                                       1                  0   \n",
       "\n",
       "   Mid-Block (not related to intersection)  Ramp Junction  \n",
       "0                                        0              0  \n",
       "1                                        1              0  \n",
       "2                                        1              0  \n",
       "3                                        1              0  \n",
       "4                                        0              0  \n",
       "\n",
       "[5 rows x 46 columns]"
      ]
     },
     "execution_count": 158,
     "metadata": {},
     "output_type": "execute_result"
    }
   ],
   "source": [
    "X[0:5]"
   ]
  },
  {
   "cell_type": "markdown",
   "metadata": {},
   "source": [
    "Next, we set y:"
   ]
  },
  {
   "cell_type": "code",
   "execution_count": 159,
   "metadata": {},
   "outputs": [],
   "source": [
    "y = df5['SEVERITYDESC']"
   ]
  },
  {
   "cell_type": "code",
   "execution_count": 160,
   "metadata": {},
   "outputs": [
    {
     "data": {
      "text/plain": [
       "0                  Injury Collision\n",
       "1    Property Damage Only Collision\n",
       "2    Property Damage Only Collision\n",
       "3    Property Damage Only Collision\n",
       "4                  Injury Collision\n",
       "Name: SEVERITYDESC, dtype: object"
      ]
     },
     "execution_count": 160,
     "metadata": {},
     "output_type": "execute_result"
    }
   ],
   "source": [
    "y[0:5]"
   ]
  },
  {
   "cell_type": "markdown",
   "metadata": {},
   "source": [
    "Next, we will split out data in to training and testing sets. We will use the same sets for each machine learning method."
   ]
  },
  {
   "cell_type": "code",
   "execution_count": 161,
   "metadata": {},
   "outputs": [
    {
     "name": "stdout",
     "output_type": "stream",
     "text": [
      "Size of X: (194673, 46)\n",
      "Size of y: (194673,)\n"
     ]
    }
   ],
   "source": [
    "print('Size of X:', X.shape)\n",
    "print('Size of y:', y.shape)"
   ]
  },
  {
   "cell_type": "code",
   "execution_count": 162,
   "metadata": {},
   "outputs": [],
   "source": [
    "from sklearn import preprocessing\n",
    "from sklearn.model_selection import train_test_split"
   ]
  },
  {
   "cell_type": "code",
   "execution_count": 163,
   "metadata": {},
   "outputs": [
    {
     "name": "stdout",
     "output_type": "stream",
     "text": [
      "Train set: (155738, 46) (155738,)\n",
      "Test set: (38935, 46) (38935,)\n"
     ]
    }
   ],
   "source": [
    "X_train, X_test, y_train, y_test = train_test_split(X, y, test_size=0.2, random_state=4)\n",
    "print ('Train set:', X_train.shape,  y_train.shape)\n",
    "print ('Test set:', X_test.shape,  y_test.shape)"
   ]
  },
  {
   "cell_type": "markdown",
   "metadata": {},
   "source": [
    "All looks good  with our sizes."
   ]
  },
  {
   "cell_type": "markdown",
   "metadata": {},
   "source": [
    "Finally, we will seek to normalise our data tests for use in creating the models."
   ]
  },
  {
   "cell_type": "code",
   "execution_count": 164,
   "metadata": {},
   "outputs": [
    {
     "data": {
      "text/plain": [
       "array([[-3.33e-01, -1.87e-01, -1.69e-01,  1.24e-01, -1.97e-01,  5.42e-01,\n",
       "        -1.53e+00, -1.33e+00,  7.30e-01, -7.08e-01, -1.69e-01, -1.03e-01,\n",
       "        -2.75e-01, -3.72e-01, -1.87e-01, -4.62e-01, -1.24e-01,  3.08e+00,\n",
       "        -1.68e-02,  8.66e-01, -5.36e-02, -6.49e-02, -4.07e-01, -5.07e-03,\n",
       "        -4.53e-01, -1.16e-02, -2.42e-02, -6.78e-02,  7.51e-01, -7.89e-02,\n",
       "        -1.77e-02, -2.52e-02, -7.07e-02, -5.68e-01, -9.06e-02, -5.75e-01,\n",
       "        -6.21e-03, -1.13e-01,  8.21e-01, -1.76e-01, -3.47e-02, -1.04e-01,\n",
       "        -6.89e-01, -2.41e-01, -9.25e-01, -3.07e-02],\n",
       "       [ 4.10e-01, -1.87e-01, -1.69e-01,  1.24e-01, -1.97e-01,  6.83e-01,\n",
       "        -4.88e-01, -1.61e-01,  7.30e-01, -7.08e-01, -1.69e-01, -1.03e-01,\n",
       "        -2.75e-01, -3.72e-01, -1.87e-01, -4.62e-01, -1.24e-01, -3.25e-01,\n",
       "        -1.68e-02, -1.15e+00, -5.36e-02, -6.49e-02,  2.46e+00, -5.07e-03,\n",
       "        -4.53e-01, -1.16e-02, -2.42e-02, -6.78e-02,  7.51e-01, -7.89e-02,\n",
       "        -1.77e-02, -2.52e-02, -7.07e-02, -5.68e-01, -9.06e-02, -5.75e-01,\n",
       "        -6.21e-03, -1.13e-01,  8.21e-01, -1.76e-01, -3.47e-02, -1.04e-01,\n",
       "        -6.89e-01, -2.41e-01,  1.08e+00, -3.07e-02],\n",
       "       [-3.33e-01, -1.87e-01,  5.81e+00, -1.46e+00, -1.97e-01,  4.01e-01,\n",
       "         1.59e+00, -4.53e-01,  7.30e-01, -7.08e-01,  5.92e+00, -1.03e-01,\n",
       "        -2.75e-01, -3.72e-01, -1.87e-01, -4.62e-01, -1.24e-01, -3.25e-01,\n",
       "        -1.68e-02,  8.66e-01, -5.36e-02, -6.49e-02, -4.07e-01, -5.07e-03,\n",
       "        -4.53e-01, -1.16e-02, -2.42e-02, -6.78e-02,  7.51e-01, -7.89e-02,\n",
       "        -1.77e-02, -2.52e-02, -7.07e-02, -5.68e-01, -9.06e-02, -5.75e-01,\n",
       "        -6.21e-03, -1.13e-01,  8.21e-01, -1.76e-01, -3.47e-02, -1.04e-01,\n",
       "        -6.89e-01, -2.41e-01, -9.25e-01, -3.07e-02],\n",
       "       [ 4.10e-01, -1.87e-01, -1.69e-01,  1.24e-01, -1.97e-01,  5.42e-01,\n",
       "         1.59e+00, -4.53e-01,  7.30e-01, -7.08e-01, -1.69e-01, -1.03e-01,\n",
       "        -2.75e-01, -3.72e-01, -1.87e-01, -4.62e-01, -1.24e-01, -3.25e-01,\n",
       "        -1.68e-02,  8.66e-01, -5.36e-02, -6.49e-02, -4.07e-01, -5.07e-03,\n",
       "        -4.53e-01, -1.16e-02, -2.42e-02, -6.78e-02,  7.51e-01, -7.89e-02,\n",
       "        -1.77e-02, -2.52e-02, -7.07e-02, -5.68e-01, -9.06e-02, -5.75e-01,\n",
       "        -6.21e-03, -1.13e-01,  8.21e-01, -1.76e-01, -3.47e-02, -1.04e-01,\n",
       "        -6.89e-01, -2.41e-01, -9.25e-01, -3.07e-02],\n",
       "       [ 1.15e+00, -1.87e-01, -1.69e-01,  1.24e-01, -1.97e-01, -1.58e+00,\n",
       "         3.21e-02, -1.62e+00,  7.30e-01, -7.08e-01, -1.69e-01, -1.03e-01,\n",
       "        -2.75e-01,  2.69e+00, -1.87e-01, -4.62e-01, -1.24e-01, -3.25e-01,\n",
       "        -1.68e-02,  8.66e-01, -5.36e-02, -6.49e-02, -4.07e-01, -5.07e-03,\n",
       "        -4.53e-01, -1.16e-02, -2.42e-02, -6.78e-02, -1.33e+00, -7.89e-02,\n",
       "        -1.77e-02, -2.52e-02, -7.07e-02,  1.76e+00, -9.06e-02,  1.74e+00,\n",
       "        -6.21e-03, -1.13e-01, -1.22e+00, -1.76e-01, -3.47e-02, -1.04e-01,\n",
       "        -6.89e-01, -2.41e-01,  1.08e+00, -3.07e-02]])"
      ]
     },
     "execution_count": 164,
     "metadata": {},
     "output_type": "execute_result"
    }
   ],
   "source": [
    "X_train_n = preprocessing.StandardScaler().fit(X_train).transform(X_train)\n",
    "X_train_n[0:5]"
   ]
  },
  {
   "cell_type": "code",
   "execution_count": 165,
   "metadata": {},
   "outputs": [
    {
     "data": {
      "text/plain": [
       "array([[ 4.22e-01, -1.87e-01, -1.71e-01,  1.32e-01, -1.94e-01,  2.58e-01,\n",
       "         1.07e+00,  1.59e+00,  7.34e-01, -7.12e-01, -1.70e-01, -1.02e-01,\n",
       "        -2.75e-01, -3.74e-01, -1.88e-01, -4.57e-01, -1.26e-01,  3.08e+00,\n",
       "        -1.76e-02, -1.15e+00, -5.63e-02, -6.80e-02, -4.11e-01, -5.07e-03,\n",
       "         2.20e+00, -1.01e-02, -2.38e-02, -7.08e-02, -1.33e+00, -7.96e-02,\n",
       "        -1.96e-02, -2.91e-02, -7.71e-02,  1.76e+00, -8.33e-02, -5.80e-01,\n",
       "        -1.13e-02, -1.17e-01,  8.29e-01, -1.80e-01, -3.51e-02, -1.05e-01,\n",
       "        -6.93e-01, -2.38e-01,  1.08e+00, -2.21e-02],\n",
       "       [-3.20e-01, -1.87e-01, -1.71e-01,  1.32e-01, -1.94e-01, -5.91e-01,\n",
       "        -1.01e+00,  1.59e+00, -1.36e+00,  1.41e+00, -1.70e-01, -1.02e-01,\n",
       "         3.63e+00, -3.74e-01, -1.88e-01, -4.57e-01, -1.26e-01, -3.25e-01,\n",
       "        -1.76e-02, -1.15e+00, -5.63e-02, -6.80e-02,  2.43e+00, -5.07e-03,\n",
       "        -4.54e-01, -1.01e-02, -2.38e-02, -7.08e-02, -1.33e+00, -7.96e-02,\n",
       "        -1.96e-02, -2.91e-02, -7.71e-02,  1.76e+00, -8.33e-02, -5.80e-01,\n",
       "        -1.13e-02, -1.17e-01,  8.29e-01, -1.80e-01, -3.51e-02, -1.05e-01,\n",
       "         1.44e+00, -2.38e-01, -9.28e-01, -2.21e-02],\n",
       "       [-3.20e-01, -1.87e-01, -1.71e-01,  1.32e-01,  5.16e+00, -1.02e+00,\n",
       "         1.07e+00, -1.61e+00,  7.34e-01, -7.12e-01, -1.70e-01, -1.02e-01,\n",
       "        -2.75e-01, -3.74e-01, -1.88e-01, -4.57e-01, -1.26e-01, -3.25e-01,\n",
       "        -1.76e-02, -1.15e+00, -5.63e-02, -6.80e-02,  2.43e+00, -5.07e-03,\n",
       "        -4.54e-01, -1.01e-02, -2.38e-02, -7.08e-02, -1.33e+00, -7.96e-02,\n",
       "        -1.96e-02, -2.91e-02, -7.71e-02,  1.76e+00, -8.33e-02,  1.73e+00,\n",
       "        -1.13e-02, -1.17e-01, -1.21e+00, -1.80e-01, -3.51e-02, -1.05e-01,\n",
       "        -6.93e-01, -2.38e-01,  1.08e+00, -2.21e-02],\n",
       "       [ 1.16e+00, -1.87e-01, -1.71e-01,  1.73e+00, -1.94e-01, -1.58e+00,\n",
       "         5.53e-01,  1.30e+00, -1.36e+00,  1.41e+00, -1.70e-01, -1.02e-01,\n",
       "        -2.75e-01, -3.74e-01, -1.88e-01, -4.57e-01, -1.26e-01, -3.25e-01,\n",
       "        -1.76e-02, -1.15e+00, -5.63e-02, -6.80e-02,  2.43e+00, -5.07e-03,\n",
       "        -4.54e-01, -1.01e-02, -2.38e-02, -7.08e-02,  7.50e-01, -7.96e-02,\n",
       "        -1.96e-02, -2.91e-02, -7.71e-02, -5.68e-01, -8.33e-02,  1.73e+00,\n",
       "        -1.13e-02, -1.17e-01, -1.21e+00, -1.80e-01, -3.51e-02, -1.05e-01,\n",
       "         1.44e+00, -2.38e-01, -9.28e-01, -2.21e-02],\n",
       "       [-1.80e+00, -1.87e-01, -1.71e-01,  1.32e-01, -1.94e-01, -3.08e-01,\n",
       "         5.53e-01, -1.03e+00, -1.36e+00,  1.41e+00, -1.70e-01, -1.02e-01,\n",
       "        -2.75e-01, -3.74e-01, -1.88e-01,  2.19e+00, -1.26e-01, -3.25e-01,\n",
       "        -1.76e-02,  8.71e-01, -5.63e-02, -6.80e-02, -4.11e-01, -5.07e-03,\n",
       "        -4.54e-01, -1.01e-02, -2.38e-02, -7.08e-02,  7.50e-01, -7.96e-02,\n",
       "        -1.96e-02, -2.91e-02, -7.71e-02, -5.68e-01, -8.33e-02, -5.80e-01,\n",
       "        -1.13e-02, -1.17e-01,  8.29e-01, -1.80e-01, -3.51e-02, -1.05e-01,\n",
       "         1.44e+00, -2.38e-01, -9.28e-01, -2.21e-02]])"
      ]
     },
     "execution_count": 165,
     "metadata": {},
     "output_type": "execute_result"
    }
   ],
   "source": [
    "X_test_n = preprocessing.StandardScaler().fit(X_test).transform(X_test)\n",
    "X_test_n[0:5]"
   ]
  },
  {
   "cell_type": "markdown",
   "metadata": {},
   "source": [
    "<h3>3.4 K Nearest Neighbour model"
   ]
  },
  {
   "cell_type": "markdown",
   "metadata": {},
   "source": [
    "We will see to find the best value for k. To do this, we will go back to our un-normalised X_train data set and further split for trialling this, before going back to use X_train_n to once we have identified the best k in order to train the final model."
   ]
  },
  {
   "cell_type": "code",
   "execution_count": 166,
   "metadata": {},
   "outputs": [
    {
     "name": "stdout",
     "output_type": "stream",
     "text": [
      "Train set: (124590, 46) (124590,)\n",
      "Test set: (31148, 46) (31148,)\n"
     ]
    }
   ],
   "source": [
    "X_train_knn, X_test_knn, y_train_knn, y_test_knn = train_test_split(X_train, y_train, test_size=0.2, random_state=4)\n",
    "print ('Train set:', X_train_knn.shape,  y_train_knn.shape)\n",
    "print ('Test set:', X_test_knn.shape,  y_test_knn.shape)"
   ]
  },
  {
   "cell_type": "markdown",
   "metadata": {},
   "source": [
    "Next, let's normalise our data:"
   ]
  },
  {
   "cell_type": "code",
   "execution_count": 167,
   "metadata": {},
   "outputs": [
    {
     "data": {
      "text/plain": [
       "array([[-0.33, -0.19, -0.17,  0.12, -0.2 , -0.31, -1.01,  1.01, -1.37,\n",
       "         1.42, -0.17, -0.1 , -0.27, -0.37, -0.19, -0.46, -0.12, -0.32,\n",
       "        -0.02,  0.87, -0.05, -0.07, -0.41, -0.01, -0.45, -0.01, -0.02,\n",
       "        -0.07,  0.75, -0.08, -0.02, -0.02, -0.07, -0.57, -0.09, -0.57,\n",
       "        -0.01, -0.11,  0.82, -0.18, -0.03, -0.1 ,  1.45, -0.24, -0.92,\n",
       "        -0.03],\n",
       "       [-0.33, -0.19, -0.17,  0.12, -0.2 ,  0.26, -1.01,  1.3 ,  0.73,\n",
       "        -0.71, -0.17, -0.1 , -0.27, -0.37, -0.19,  2.16, -0.12, -0.32,\n",
       "        -0.02,  0.87, -0.05, -0.07, -0.41, -0.01, -0.45, -0.01, -0.02,\n",
       "        -0.07,  0.75, -0.08, -0.02, -0.02, -0.07, -0.57, -0.09, -0.57,\n",
       "        -0.01, -0.11,  0.82, -0.18, -0.03, -0.1 , -0.69, -0.24, -0.92,\n",
       "        -0.03],\n",
       "       [-0.33, -0.19, -0.17,  0.12, -0.2 ,  1.25, -1.53,  1.3 ,  0.73,\n",
       "        -0.71, -0.17, -0.1 , -0.27, -0.37, -0.19, -0.46, -0.12, -0.32,\n",
       "        -0.02, -1.15, -0.05, -0.07, -0.41, -0.01,  2.22, -0.01, -0.02,\n",
       "        -0.07, -1.33, -0.08, -0.02, -0.02, -0.07,  1.76, -0.09, -0.57,\n",
       "        -0.01, -0.11, -1.22, -0.18, -0.03, -0.1 , -0.69, -0.24,  1.08,\n",
       "        -0.03],\n",
       "       [ 0.41,  4.84, -0.17,  0.12, -0.2 , -1.58,  0.55,  0.71,  0.73,\n",
       "        -0.71, -0.17, -0.1 , -0.27, -0.37,  5.34, -0.46, -0.12, -0.32,\n",
       "        -0.02,  0.87, -0.05, -0.07, -0.41, -0.01, -0.45, -0.01, -0.02,\n",
       "        -0.07,  0.75, -0.08, -0.02, -0.02, -0.07, -0.57, -0.09,  1.74,\n",
       "        -0.01, -0.11, -1.22, -0.18, -0.03, -0.1 , -0.69, -0.24,  1.08,\n",
       "        -0.03],\n",
       "       [-1.08, -0.19, -0.17, -1.46, -0.2 ,  0.4 , -1.53, -1.04,  0.73,\n",
       "        -0.71, -0.17, -0.1 , -0.27,  2.69, -0.19, -0.46, -0.12, -0.32,\n",
       "        -0.02,  0.87, -0.05, -0.07, -0.41, -0.01, -0.45, -0.01, -0.02,\n",
       "        -0.07,  0.75, -0.08, -0.02, -0.02, -0.07, -0.57, -0.09, -0.57,\n",
       "        -0.01, -0.11,  0.82, -0.18, -0.03, -0.1 , -0.69, -0.24,  1.08,\n",
       "        -0.03]])"
      ]
     },
     "execution_count": 167,
     "metadata": {},
     "output_type": "execute_result"
    }
   ],
   "source": [
    "X_train_knn_n = preprocessing.StandardScaler().fit(X_train_knn).transform(X_train_knn)\n",
    "X_train_knn_n[0:5]"
   ]
  },
  {
   "cell_type": "code",
   "execution_count": 168,
   "metadata": {},
   "outputs": [
    {
     "data": {
      "text/plain": [
       "array([[-0.32, -0.19, -0.17,  0.12, -0.2 ,  1.25,  1.08, -1.33,  0.73,\n",
       "        -0.71, -0.17, -0.1 , -0.28, -0.37, -0.19, -0.46, -0.13, -0.33,\n",
       "        -0.02,  0.87, -0.05, -0.06, -0.4 ,  0.  , -0.46, -0.01, -0.03,\n",
       "        -0.07,  0.75, -0.07, -0.01, -0.03, -0.07, -0.57, -0.09, -0.58,\n",
       "         0.  , -0.11, -1.22, -0.17, -0.04, -0.1 , -0.69, -0.24,  1.08,\n",
       "        -0.03],\n",
       "       [ 0.41,  4.89, -0.17, -1.45, -0.2 ,  0.97,  0.04,  1.3 , -1.36,\n",
       "         1.4 , -0.17, -0.1 , -0.28, -0.37,  5.32, -0.46, -0.13, -0.33,\n",
       "        -0.02,  0.87, -0.05, -0.06, -0.4 ,  0.  , -0.46, -0.01, -0.03,\n",
       "        -0.07,  0.75, -0.07, -0.01, -0.03, -0.07, -0.57, -0.09,  1.72,\n",
       "         0.  , -0.11, -1.22, -0.17, -0.04, -0.1 ,  1.44, -0.24, -0.93,\n",
       "        -0.03],\n",
       "       [ 0.41, -0.19, -0.17,  0.12, -0.2 ,  0.4 , -0.49,  1.01,  0.73,\n",
       "        -0.71, -0.17, -0.1 , -0.28, -0.37, -0.19,  2.19, -0.13, -0.33,\n",
       "        -0.02,  0.87, -0.05, -0.06, -0.4 ,  0.  , -0.46, -0.01, -0.03,\n",
       "        -0.07,  0.75, -0.07, -0.01, -0.03, -0.07, -0.57, -0.09, -0.58,\n",
       "         0.  , -0.11,  0.82, -0.17, -0.04, -0.1 , -0.69, -0.24,  1.08,\n",
       "        -0.03],\n",
       "       [ 0.41, -0.19, -0.17,  0.12, -0.2 ,  0.4 ,  0.04,  0.42,  0.73,\n",
       "        -0.71, -0.17, -0.1 , -0.28,  2.69, -0.19, -0.46, -0.13, -0.33,\n",
       "        -0.02,  0.87, -0.05, -0.06, -0.4 ,  0.  , -0.46, -0.01, -0.03,\n",
       "        -0.07,  0.75, -0.07, -0.01, -0.03, -0.07, -0.57, -0.09, -0.58,\n",
       "         0.  , -0.11,  0.82, -0.17, -0.04, -0.1 , -0.69, -0.24,  1.08,\n",
       "        -0.03],\n",
       "       [-0.32, -0.19, -0.17,  0.12, -0.2 , -1.57,  1.08,  0.72,  0.73,\n",
       "        -0.71, -0.17, -0.1 , -0.28, -0.37, -0.19, -0.46, -0.13,  3.06,\n",
       "        -0.02,  0.87, -0.05, -0.06, -0.4 ,  0.  , -0.46, -0.01, -0.03,\n",
       "        -0.07,  0.75, -0.07, -0.01, -0.03, -0.07, -0.57, -0.09, -0.58,\n",
       "         0.  , -0.11,  0.82, -0.17, -0.04, -0.1 , -0.69, -0.24, -0.93,\n",
       "        -0.03]])"
      ]
     },
     "execution_count": 168,
     "metadata": {},
     "output_type": "execute_result"
    }
   ],
   "source": [
    "X_test_knn_n = preprocessing.StandardScaler().fit(X_test_knn).transform(X_test_knn)\n",
    "X_test_knn_n[0:5]"
   ]
  },
  {
   "cell_type": "markdown",
   "metadata": {},
   "source": [
    "Let's try the knn algorithm for a number of different k and the plot the results.from sklearn.neighbors import KNeighborsClassifier"
   ]
  },
  {
   "cell_type": "code",
   "execution_count": 169,
   "metadata": {},
   "outputs": [],
   "source": [
    "from sklearn.neighbors import KNeighborsClassifier\n",
    "from sklearn import metrics"
   ]
  },
  {
   "cell_type": "code",
   "execution_count": null,
   "metadata": {},
   "outputs": [],
   "source": [
    "Ks = 11\n",
    "mean_acc = np.zeros((Ks-1))\n",
    "#std_acc = np.zeros((Ks-1))\n",
    "ConfustionMx = [];\n",
    "for n in range(3,Ks):\n",
    "    \n",
    "    #Train Model and Predict  \n",
    "    neigh = KNeighborsClassifier(n_neighbors = n).fit(X_train_knn_n,y_train_knn)\n",
    "    yhat_knn=neigh.predict(X_test_knn_n)\n",
    "    mean_acc[n-1] = metrics.accuracy_score(y_test_knn, yhat_knn)\n",
    "\n",
    "    \n",
    "#    std_acc[n-1]=np.std(yhat_knn==y_test_knn)/np.sqrt(yhat_knn.shape[0])\n",
    "\n",
    "mean_acc"
   ]
  },
  {
   "cell_type": "code",
   "execution_count": 170,
   "metadata": {},
   "outputs": [],
   "source": [
    "import itertools\n",
    "import matplotlib.pyplot as plt\n",
    "from matplotlib.ticker import NullFormatter\n",
    "import matplotlib.ticker as ticker\n",
    "%matplotlib inline"
   ]
  },
  {
   "cell_type": "code",
   "execution_count": 58,
   "metadata": {},
   "outputs": [
    {
     "data": {
      "image/png": "[encoded data removed]",
      "text/plain": [
       "<Figure size 432x288 with 1 Axes>"
      ]
     },
     "metadata": {
      "needs_background": "light"
     },
     "output_type": "display_data"
    }
   ],
   "source": [
    "plt.plot(range(1,Ks),mean_acc,'g')\n",
    "#plt.fill_between(range(1,Ks),mean_acc - 1 * std_acc,mean_acc + 1 * std_acc, alpha=0.10)\n",
    "plt.fill_between(range(1,Ks),mean_acc - 1,mean_acc + 1, alpha=0.10)\n",
    "plt.legend(('Accuracy ', '+/- 3xstd'))\n",
    "plt.ylabel('Accuracy ')\n",
    "plt.xlabel('Number of Nabors (K)')\n",
    "plt.tight_layout()\n",
    "plt.show()"
   ]
  },
  {
   "cell_type": "code",
   "execution_count": 59,
   "metadata": {},
   "outputs": [
    {
     "name": "stdout",
     "output_type": "stream",
     "text": [
      "The best accuracy for knn was with 0.7374791318864775 with k= 9 . We will therefore use k= 9  in our core knn model with sets X_test_n and y_test\n"
     ]
    }
   ],
   "source": [
    "print( \"The best accuracy for knn was with\", mean_acc.max(), \"with k=\", mean_acc.argmax()+1, \". We will therefore use k=\", mean_acc.argmax()+1, \" in our core knn model with sets X_test_n and y_test\") "
   ]
  },
  {
   "cell_type": "markdown",
   "metadata": {},
   "source": [
    "It is possible a higher value for k would yield a better accuracy score. However the computation time would be far too great to continue with higher k, and we also risk over fitting the model to the test data. We can also see that for all small values of k, the accuracy is reasonably similar."
   ]
  },
  {
   "cell_type": "markdown",
   "metadata": {},
   "source": [
    "We will now run the knn algorithm for k = 9 with the full training data set."
   ]
  },
  {
   "cell_type": "code",
   "execution_count": 96,
   "metadata": {},
   "outputs": [
    {
     "name": "stdout",
     "output_type": "stream",
     "text": [
      "Train_knn set Accuracy:  0.7857234586292363\n",
      "Test_knn set Accuracy:  0.7364838833954026\n"
     ]
    }
   ],
   "source": [
    "k = 9\n",
    "neigh = KNeighborsClassifier(n_neighbors = k).fit(X_train_n,y_train)\n",
    "yhat_knn = neigh.predict(X_test_n)\n",
    "yhat_knn[0:5]\n",
    "print(\"Train_knn set Accuracy: \", metrics.accuracy_score(y_train, neigh.predict(X_train_n)))\n",
    "print(\"Test_knn set Accuracy: \", metrics.accuracy_score(y_test, yhat_knn))"
   ]
  },
  {
   "cell_type": "code",
   "execution_count": 171,
   "metadata": {},
   "outputs": [],
   "source": [
    "from sklearn.metrics import jaccard_score\n",
    "from sklearn.metrics import f1_score\n",
    "from sklearn.metrics import log_loss"
   ]
  },
  {
   "cell_type": "code",
   "execution_count": 98,
   "metadata": {},
   "outputs": [
    {
     "name": "stdout",
     "output_type": "stream",
     "text": [
      "Avg F1-score (7nn): 0.7190\n",
      "Jaccard score (7nn): 0.7365\n"
     ]
    }
   ],
   "source": [
    "print(\"Avg F1-score (7nn): %.4f\" % f1_score(y_test, yhat_knn, average='weighted'))\n",
    "print(\"Jaccard score (7nn): %.4f\" % jaccard_score(y_test, yhat_knn)) "
   ]
  },
  {
   "cell_type": "markdown",
   "metadata": {},
   "source": [
    "<h4>3.5 Decision Trees"
   ]
  },
  {
   "cell_type": "code",
   "execution_count": 172,
   "metadata": {},
   "outputs": [],
   "source": [
    "from sklearn.tree import DecisionTreeClassifier\n",
    "from sklearn.model_selection import train_test_split"
   ]
  },
  {
   "cell_type": "markdown",
   "metadata": {},
   "source": [
    "We will first try a few sample depths for the decision tree, to see what the accuracy is like:"
   ]
  },
  {
   "cell_type": "code",
   "execution_count": 173,
   "metadata": {},
   "outputs": [
    {
     "data": {
      "text/plain": [
       "DecisionTreeClassifier(criterion='entropy', max_depth=2)"
      ]
     },
     "execution_count": 173,
     "metadata": {},
     "output_type": "execute_result"
    }
   ],
   "source": [
    "severity = DecisionTreeClassifier(criterion=\"entropy\", max_depth = 2)\n",
    "severity.fit(X_train_n,y_train)"
   ]
  },
  {
   "cell_type": "code",
   "execution_count": 174,
   "metadata": {},
   "outputs": [],
   "source": [
    "predTree = severity.predict(X_test_n)"
   ]
  },
  {
   "cell_type": "code",
   "execution_count": 175,
   "metadata": {},
   "outputs": [
    {
     "name": "stdout",
     "output_type": "stream",
     "text": [
      "['Property Damage Only Collision' 'Property Damage Only Collision'\n",
      " 'Property Damage Only Collision' 'Property Damage Only Collision'\n",
      " 'Property Damage Only Collision' 'Property Damage Only Collision'\n",
      " 'Injury Collision' 'Property Damage Only Collision'\n",
      " 'Property Damage Only Collision' 'Property Damage Only Collision']\n",
      "181980                  Injury Collision\n",
      "163332    Property Damage Only Collision\n",
      "180525    Property Damage Only Collision\n",
      "1695                    Injury Collision\n",
      "143631                  Injury Collision\n",
      "63499     Property Damage Only Collision\n",
      "65001                   Injury Collision\n",
      "159841                  Injury Collision\n",
      "174858                  Injury Collision\n",
      "25548     Property Damage Only Collision\n",
      "Name: SEVERITYDESC, dtype: object\n",
      "DecisionTrees's Accuracy:  0.7532554257095159\n"
     ]
    }
   ],
   "source": [
    "print (predTree [0:10])\n",
    "print (y_test [0:10])\n",
    "print(\"DecisionTrees's Accuracy: \", metrics.accuracy_score(y_test, predTree))"
   ]
  },
  {
   "cell_type": "code",
   "execution_count": 177,
   "metadata": {},
   "outputs": [
    {
     "name": "stdout",
     "output_type": "stream",
     "text": [
      "Avg F1-score (dt6): 0.6910\n"
     ]
    }
   ],
   "source": [
    "print(\"Avg F1-score (dt6): %.4f\" % f1_score(y_test, predTree, average='weighted'))\n",
    "#print(\"Jaccard score (dt6): %.4f\" % jaccard_score(y_test, predTree)) "
   ]
  },
  {
   "cell_type": "code",
   "execution_count": 179,
   "metadata": {},
   "outputs": [
    {
     "name": "stdout",
     "output_type": "stream",
     "text": [
      "DecisionTrees's Accuracy when d = 3 : 0.7532554257095159\n",
      "Avg F1-score when d = 3 : 0.6909988902630863\n"
     ]
    }
   ],
   "source": [
    "d = 3\n",
    "\n",
    "severity = DecisionTreeClassifier(criterion=\"entropy\", max_depth = d)\n",
    "severity.fit(X_train_n,y_train)\n",
    "predTree = severity.predict(X_test_n)\n",
    "print(\"DecisionTrees's Accuracy when d =\", d, \":\",  metrics.accuracy_score(y_test, predTree))\n",
    "print(\"Avg F1-score when d =\", d, \":\" , f1_score(y_test, predTree, average='weighted'))\n",
    "#print(\"Jaccard score when d =\", d, \":\" , jaccard_score(y_test, predTree)) "
   ]
  },
  {
   "cell_type": "code",
   "execution_count": 181,
   "metadata": {},
   "outputs": [
    {
     "name": "stdout",
     "output_type": "stream",
     "text": [
      "DecisionTrees's Accuracy when d = 4 : 0.7532040580454604\n",
      "Avg F1-score when d = 4 : 0.6909088263165114\n"
     ]
    }
   ],
   "source": [
    "d = 4\n",
    "\n",
    "severity = DecisionTreeClassifier(criterion=\"entropy\", max_depth = d)\n",
    "severity.fit(X_train_n,y_train)\n",
    "predTree = severity.predict(X_test_n)\n",
    "print(\"DecisionTrees's Accuracy when d =\", d, \":\",  metrics.accuracy_score(y_test, predTree))\n",
    "print(\"Avg F1-score when d =\", d, \":\" , f1_score(y_test, predTree, average='weighted'))\n",
    "#print(\"Jaccard score when d =\", d, \":\" , jaccard_score(y_test, predTree)) "
   ]
  },
  {
   "cell_type": "code",
   "execution_count": 182,
   "metadata": {},
   "outputs": [
    {
     "name": "stdout",
     "output_type": "stream",
     "text": [
      "DecisionTrees's Accuracy when d = 5 : 0.7553101322717349\n",
      "Avg F1-score when d = 5 : 0.7257176472247898\n"
     ]
    }
   ],
   "source": [
    "d = 5\n",
    "\n",
    "severity = DecisionTreeClassifier(criterion=\"entropy\", max_depth = d)\n",
    "severity.fit(X_train_n,y_train)\n",
    "predTree = severity.predict(X_test_n)\n",
    "print(\"DecisionTrees's Accuracy when d =\", d, \":\",  metrics.accuracy_score(y_test, predTree))\n",
    "print(\"Avg F1-score when d =\", d, \":\" , f1_score(y_test, predTree, average='weighted'))\n",
    "#print(\"Jaccard score when d =\", d, \":\" , jaccard_score(y_test, predTree)) "
   ]
  },
  {
   "cell_type": "code",
   "execution_count": 183,
   "metadata": {},
   "outputs": [
    {
     "name": "stdout",
     "output_type": "stream",
     "text": [
      "DecisionTrees's Accuracy when d = 6 : 0.7575189418261205\n",
      "Avg F1-score when d = 6 : 0.7106348787888592\n"
     ]
    }
   ],
   "source": [
    "d = 6\n",
    "\n",
    "severity = DecisionTreeClassifier(criterion=\"entropy\", max_depth = d)\n",
    "severity.fit(X_train_n,y_train)\n",
    "predTree = severity.predict(X_test_n)\n",
    "print(\"DecisionTrees's Accuracy when d =\", d, \":\",  metrics.accuracy_score(y_test, predTree))\n",
    "print(\"Avg F1-score when d =\", d, \":\" , f1_score(y_test, predTree, average='weighted'))\n",
    "#print(\"Jaccard score when d =\", d, \":\" , jaccard_score(y_test, predTree)) "
   ]
  },
  {
   "cell_type": "code",
   "execution_count": 184,
   "metadata": {},
   "outputs": [
    {
     "name": "stdout",
     "output_type": "stream",
     "text": [
      "DecisionTrees's Accuracy when d = 7 : 0.7582637729549249\n",
      "Avg F1-score when d = 7 : 0.7131808499657409\n"
     ]
    }
   ],
   "source": [
    "d = 7\n",
    "\n",
    "severity = DecisionTreeClassifier(criterion=\"entropy\", max_depth = d)\n",
    "severity.fit(X_train_n,y_train)\n",
    "predTree = severity.predict(X_test_n)\n",
    "print(\"DecisionTrees's Accuracy when d =\", d, \":\",  metrics.accuracy_score(y_test, predTree))\n",
    "print(\"Avg F1-score when d =\", d, \":\" , f1_score(y_test, predTree, average='weighted'))\n",
    "#print(\"Jaccard score when d =\", d, \":\" , jaccard_score(y_test, predTree)) "
   ]
  },
  {
   "cell_type": "code",
   "execution_count": 185,
   "metadata": {},
   "outputs": [
    {
     "name": "stdout",
     "output_type": "stream",
     "text": [
      "DecisionTrees's Accuracy when d = 8 : 0.759727751380506\n",
      "Avg F1-score when d = 8 : 0.7201291842237023\n"
     ]
    }
   ],
   "source": [
    "d = 8\n",
    "\n",
    "severity = DecisionTreeClassifier(criterion=\"entropy\", max_depth = d)\n",
    "severity.fit(X_train_n,y_train)\n",
    "predTree = severity.predict(X_test_n)\n",
    "print(\"DecisionTrees's Accuracy when d =\", d, \":\",  metrics.accuracy_score(y_test, predTree))\n",
    "print(\"Avg F1-score when d =\", d, \":\" , f1_score(y_test, predTree, average='weighted'))\n",
    "#print(\"Jaccard score when d =\", d, \":\" , jaccard_score(y_test, predTree)) "
   ]
  },
  {
   "cell_type": "code",
   "execution_count": 186,
   "metadata": {},
   "outputs": [
    {
     "name": "stdout",
     "output_type": "stream",
     "text": [
      "DecisionTrees's Accuracy when d = 9 : 0.7585976627712855\n",
      "Avg F1-score when d = 9 : 0.7243390767720724\n"
     ]
    }
   ],
   "source": [
    "d = 9\n",
    "\n",
    "severity = DecisionTreeClassifier(criterion=\"entropy\", max_depth = d)\n",
    "severity.fit(X_train_n,y_train)\n",
    "predTree = severity.predict(X_test_n)\n",
    "print(\"DecisionTrees's Accuracy when d =\", d, \":\",  metrics.accuracy_score(y_test, predTree))\n",
    "print(\"Avg F1-score when d =\", d, \":\" , f1_score(y_test, predTree, average='weighted'))\n",
    "#print(\"Jaccard score when d =\", d, \":\" , jaccard_score(y_test, predTree)) "
   ]
  },
  {
   "cell_type": "markdown",
   "metadata": {},
   "source": [
    "Let's write a recurring formula to test a wide range of d in the range 2 to 50."
   ]
  },
  {
   "cell_type": "code",
   "execution_count": 188,
   "metadata": {},
   "outputs": [
    {
     "name": "stdout",
     "output_type": "stream",
     "text": [
      "DecisionTrees's Accuracy:  [0.   0.68 0.68 0.68 0.68 0.68 0.68 0.68 0.68 0.68 0.68 0.68 0.68 0.68\n",
      " 0.68 0.68 0.68 0.68 0.68 0.68 0.68 0.68 0.68 0.68 0.68 0.68 0.68 0.68\n",
      " 0.68 0.68 0.68 0.68 0.68 0.68 0.68 0.68 0.68 0.68 0.68 0.68 0.68 0.68\n",
      " 0.68 0.68 0.68 0.68 0.68 0.68 0.68]\n",
      "The best accuracy for decision tree was with 0.6785668421728522 with d= 37\n",
      "DecisionTrees's F1 scoreS:  [0.   0.68 0.68 0.68 0.68 0.68 0.68 0.68 0.68 0.68 0.68 0.68 0.68 0.68\n",
      " 0.68 0.68 0.68 0.68 0.68 0.68 0.68 0.68 0.68 0.68 0.68 0.68 0.68 0.68\n",
      " 0.68 0.68 0.68 0.68 0.68 0.68 0.68 0.68 0.68 0.68 0.68 0.68 0.68 0.68\n",
      " 0.68 0.68 0.68 0.68 0.68 0.68 0.68]\n",
      "The best F1 score for decision tree was with 0.681805146101905 with d= 37\n"
     ]
    }
   ],
   "source": [
    "d = 50\n",
    "mean_acc = np.zeros((d-1))\n",
    "f1s = np.zeros((d-1))\n",
    "jac = np.zeros((d-1))\n",
    "ConfustionMx = [];\n",
    "for n in range(2,d):\n",
    "    \n",
    " \n",
    "    severity = DecisionTreeClassifier(criterion=\"entropy\", max_depth = d)\n",
    "    severity.fit(X_train_n,y_train)\n",
    "    predTree = severity.predict(X_test_n)\n",
    "\n",
    "    mean_acc[n-1] = metrics.accuracy_score(y_test, predTree)\n",
    "    f1s[n-1] = f1_score(y_test, predTree, average='weighted')    \n",
    "#    jac[n-1] = jaccard_score(y_test, predTree)\n",
    "    \n",
    "\n",
    "print(\"DecisionTrees's Accuracy: \", mean_acc)\n",
    "print( \"The best accuracy for decision tree was with\", mean_acc.max(), \"with d=\", mean_acc.argmax()+1)\n",
    "\n",
    "print(\"DecisionTrees's F1 scoreS: \", f1s)\n",
    "print( \"The best F1 score for decision tree was with\",f1s.max(), \"with d=\", f1s.argmax()+1)\n",
    "\n",
    "#print(\"DecisionTrees's Jaccard scores: \", jac)\n",
    "#print( \"The best Jaccard score for decision tree was with\",jac.max(), \"with d=\", jac.argmax()+1)\n"
   ]
  },
  {
   "cell_type": "code",
   "execution_count": 189,
   "metadata": {},
   "outputs": [
    {
     "name": "stdout",
     "output_type": "stream",
     "text": [
      "DecisionTrees's Accuracy:  0.6781045331963529\n",
      "DecisionTrees's F1 score:  0.6811032208372303\n"
     ]
    }
   ],
   "source": [
    "severity = DecisionTreeClassifier(criterion=\"entropy\", max_depth = 37)\n",
    "severity.fit(X_train_n,y_train)\n",
    "predTree = severity.predict(X_test_n)\n",
    "    \n",
    "    \n",
    "mean_acc = metrics.accuracy_score(y_test, predTree)\n",
    "f1s = f1_score(y_test, predTree, average='weighted')    \n",
    "#jac = jaccard_score(y_test, predTree)\n",
    "\n",
    "\n",
    "\n",
    "print(\"DecisionTrees's Accuracy: \", mean_acc)\n",
    "print(\"DecisionTrees's F1 score: \", f1s)\n",
    "#print(\"DecisionTrees's Jaccard Score: \", jac)"
   ]
  },
  {
   "cell_type": "code",
   "execution_count": 190,
   "metadata": {},
   "outputs": [],
   "source": [
    "from sklearn.metrics import classification_report, confusion_matrix\n",
    "import itertools"
   ]
  },
  {
   "cell_type": "code",
   "execution_count": 191,
   "metadata": {},
   "outputs": [],
   "source": [
    "def plot_confusion_matrix(cm, classes,\n",
    "                          normalize=False,\n",
    "                          title='Confusion matrix',\n",
    "                          cmap=plt.cm.Blues):\n",
    "    \"\"\"\n",
    "    This function prints and plots the confusion matrix.\n",
    "    Normalization can be applied by setting `normalize=True`.\n",
    "    \"\"\"\n",
    "    if normalize:\n",
    "        cm = cm.astype('float') / cm.sum(axis=1)[:, np.newaxis]\n",
    "        print(\"Normalized confusion matrix\")\n",
    "    else:\n",
    "        print('Confusion matrix, without normalization')\n",
    "\n",
    "    print(cm)\n",
    "\n",
    "    plt.imshow(cm, interpolation='nearest', cmap=cmap)\n",
    "    plt.title(title)\n",
    "    plt.colorbar()\n",
    "    tick_marks = np.arange(len(classes))\n",
    "    plt.xticks(tick_marks, classes, rotation=45)\n",
    "    plt.yticks(tick_marks, classes)\n",
    "\n",
    "    fmt = '.2f' if normalize else 'd'\n",
    "    thresh = cm.max() / 2.\n",
    "    for i, j in itertools.product(range(cm.shape[0]), range(cm.shape[1])):\n",
    "        plt.text(j, i, format(cm[i, j], fmt),\n",
    "                 horizontalalignment=\"center\",\n",
    "                 color=\"white\" if cm[i, j] > thresh else \"black\")\n",
    "\n",
    "    plt.tight_layout()\n",
    "    plt.ylabel('True label')\n",
    "    plt.xlabel('Predicted label')"
   ]
  },
  {
   "cell_type": "code",
   "execution_count": 192,
   "metadata": {},
   "outputs": [
    {
     "name": "stdout",
     "output_type": "stream",
     "text": [
      "                                precision    recall  f1-score   support\n",
      "\n",
      "              Injury Collision       0.46      0.49      0.47     11510\n",
      "Property Damage Only Collision       0.78      0.76      0.77     27425\n",
      "\n",
      "                      accuracy                           0.68     38935\n",
      "                     macro avg       0.62      0.62      0.62     38935\n",
      "                  weighted avg       0.68      0.68      0.68     38935\n",
      "\n",
      "Confusion matrix, without normalization\n",
      "[[20762  6663]\n",
      " [ 5870  5640]]\n"
     ]
    },
    {
     "data": {
      "image/png": "[encoded data removed]",
      "text/plain": [
       "<Figure size 432x288 with 2 Axes>"
      ]
     },
     "metadata": {
      "needs_background": "light"
     },
     "output_type": "display_data"
    }
   ],
   "source": [
    "# Compute confusion matrix\n",
    "cnf_matrix = confusion_matrix(y_test, predTree, labels=['Property Damage Only Collision','Injury Collision'])\n",
    "np.set_printoptions(precision=2)\n",
    "\n",
    "print (classification_report(y_test, predTree))\n",
    "\n",
    "# Plot non-normalized confusion matrix\n",
    "plt.figure()\n",
    "plot_confusion_matrix(cnf_matrix, classes=['Property damage (1)','Injury (2)'],normalize= False,  title='Confusion matrix')\n"
   ]
  },
  {
   "cell_type": "code",
   "execution_count": 201,
   "metadata": {},
   "outputs": [
    {
     "name": "stdout",
     "output_type": "stream",
     "text": [
      "Predict 'property damage' correctly:  75.70464904284412 %\n",
      "Predict 'property damage' when it's an 'injury collision':  50.99913119026933 %\n",
      "Predict 'injury' correctly:  49.00086880973067 %\n",
      "Predict 'injury' when it's 'property damage':  24.29535095715588 %\n"
     ]
    }
   ],
   "source": [
    "print(\"Predict 'property damage' correctly: \", 100*(20762/(20762+6663)), \"%\")\n",
    "print(\"Predict 'property damage' when it's an 'injury collision': \", 100*(5870/(5870+5640)), \"%\")\n",
    "print(\"Predict 'injury' correctly: \", 100*(5640/(5870+5640)), \"%\")\n",
    "print(\"Predict 'injury' when it's 'property damage': \", 100*(6663/(20762+6663)), \"%\")"
   ]
  },
  {
   "cell_type": "markdown",
   "metadata": {},
   "source": [
    "This suggests our model will predict correctly a property damage collision more than three quarters of the time, but will fail to predict an 'injury collision' a around half of the time."
   ]
  },
  {
   "cell_type": "markdown",
   "metadata": {},
   "source": [
    "<h4> 3.6 Logistic regression"
   ]
  },
  {
   "cell_type": "code",
   "execution_count": 193,
   "metadata": {},
   "outputs": [],
   "source": [
    "import pylab as pl\n",
    "import scipy.optimize as opt\n",
    "from sklearn.linear_model import LogisticRegression\n",
    "from sklearn.metrics import confusion_matrix"
   ]
  },
  {
   "cell_type": "code",
   "execution_count": 194,
   "metadata": {},
   "outputs": [
    {
     "data": {
      "text/plain": [
       "LogisticRegression(C=0.01, solver='liblinear')"
      ]
     },
     "execution_count": 194,
     "metadata": {},
     "output_type": "execute_result"
    }
   ],
   "source": [
    "LR = LogisticRegression(C=0.01, solver='liblinear').fit(X,y)\n",
    "LR"
   ]
  },
  {
   "cell_type": "code",
   "execution_count": 195,
   "metadata": {},
   "outputs": [],
   "source": [
    "yhat_lr = LR.predict(X_test_n)"
   ]
  },
  {
   "cell_type": "code",
   "execution_count": 197,
   "metadata": {},
   "outputs": [
    {
     "name": "stdout",
     "output_type": "stream",
     "text": [
      "Avg F1-score (lr): 0.7003\n"
     ]
    }
   ],
   "source": [
    "print(\"Avg F1-score (lr): %.4f\" % f1_score(y_test, yhat_lr, average='weighted'))\n",
    "#print(\"Jaccard score (lr): %.4f\" % jaccard_score(y_test, yhat_lr))  "
   ]
  },
  {
   "cell_type": "code",
   "execution_count": 198,
   "metadata": {},
   "outputs": [
    {
     "data": {
      "text/plain": [
       "array([[2.55e-03, 9.97e-01],\n",
       "       [2.33e-01, 7.67e-01],\n",
       "       [1.89e-04, 1.00e+00],\n",
       "       ...,\n",
       "       [1.04e-01, 8.96e-01],\n",
       "       [1.13e-02, 9.89e-01],\n",
       "       [2.34e-01, 7.66e-01]])"
      ]
     },
     "execution_count": 198,
     "metadata": {},
     "output_type": "execute_result"
    }
   ],
   "source": [
    "yhat_lr_prob = LR.predict_proba(X_test_n)\n",
    "yhat_lr_prob"
   ]
  },
  {
   "cell_type": "code",
   "execution_count": 199,
   "metadata": {},
   "outputs": [
    {
     "data": {
      "text/plain": [
       "0.8054981756391366"
      ]
     },
     "execution_count": 199,
     "metadata": {},
     "output_type": "execute_result"
    }
   ],
   "source": [
    "from sklearn.metrics import log_loss\n",
    "log_loss(y_test, yhat_lr_prob)"
   ]
  },
  {
   "cell_type": "code",
   "execution_count": 200,
   "metadata": {},
   "outputs": [
    {
     "name": "stdout",
     "output_type": "stream",
     "text": [
      "                                precision    recall  f1-score   support\n",
      "\n",
      "              Injury Collision       0.74      0.24      0.36     11510\n",
      "Property Damage Only Collision       0.75      0.97      0.84     27425\n",
      "\n",
      "                      accuracy                           0.75     38935\n",
      "                     macro avg       0.74      0.60      0.60     38935\n",
      "                  weighted avg       0.75      0.75      0.70     38935\n",
      "\n",
      "Confusion matrix, without normalization\n",
      "[[26470   955]\n",
      " [ 8802  2708]]\n"
     ]
    },
    {
     "data": {
      "image/png": "[encoded data removed]",
      "text/plain": [
       "<Figure size 432x288 with 2 Axes>"
      ]
     },
     "metadata": {
      "needs_background": "light"
     },
     "output_type": "display_data"
    }
   ],
   "source": [
    "# Compute confusion matrix\n",
    "cnf_matrix_lr = confusion_matrix(y_test, yhat_lr, labels=['Property Damage Only Collision','Injury Collision'])\n",
    "np.set_printoptions(precision=2)\n",
    "\n",
    "print (classification_report(y_test, yhat_lr))\n",
    "\n",
    "# Plot non-normalized confusion matrix\n",
    "plt.figure()\n",
    "plot_confusion_matrix(cnf_matrix_lr, classes=['Property damage (1)','Injury (2)'],normalize= False,  title='Confusion matrix')"
   ]
  },
  {
   "cell_type": "code",
   "execution_count": 105,
   "metadata": {},
   "outputs": [
    {
     "name": "stdout",
     "output_type": "stream",
     "text": [
      "Predict 'property damage' correctly:  96.51777575205105 %\n",
      "Predict 'property damage' when it's an 'injury collision':  76.47263249348393 %\n",
      "Predict 'injury' correctly:  23.52736750651607 %\n",
      "Predict 'injury' when it's 'property damage':  3.4822242479489516 %\n"
     ]
    }
   ],
   "source": [
    "print(\"Predict 'property damage' correctly: \", 100*(26470/(26470+955)), \"%\")\n",
    "print(\"Predict 'property damage' when it's an 'injury collision': \", 100*(8802/(8802+2708)), \"%\")\n",
    "print(\"Predict 'injury' correctly: \", 100*(2708/(8802+2708)), \"%\")\n",
    "print(\"Predict 'injury' when it's 'property damage': \", 100*(955/(26470+955)), \"%\")"
   ]
  },
  {
   "cell_type": "markdown",
   "metadata": {},
   "source": [
    "We can see that logistic regression is more accurate than decision trees. However, we can also see that predicting the likelihood of a collision with injury is significantly less accurate than predicting a collision will only have property damage. This is likely due to significantly more data points in our data set being for proterty damage collisions than injury collisions. We will therefore consider under- or over-sampling to recitfy this in our models."
   ]
  }
 ],
 "metadata": {
  "kernelspec": {
   "display_name": "Python",
   "language": "python",
   "name": "conda-env-python-py"
  },
  "language_info": {
   "codemirror_mode": {
    "name": "ipython",
    "version": 3
   },
   "file_extension": ".py",
   "mimetype": "text/x-python",
   "name": "python",
   "nbconvert_exporter": "python",
   "pygments_lexer": "ipython3",
   "version": "3.6.11"
  }
 },
 "nbformat": 4,
 "nbformat_minor": 4
}
